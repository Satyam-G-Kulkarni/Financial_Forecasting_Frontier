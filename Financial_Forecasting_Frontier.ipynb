{
  "nbformat": 4,
  "nbformat_minor": 0,
  "metadata": {
    "colab": {
      "provenance": [],
      "collapsed_sections": [
        "t2cneGmtxY_g",
        "p-sntDPJyEq9",
        "YY0Gxh52zhoi",
        "mDhbgWl_7YR8",
        "sx6UvFLH7ytP",
        "ZzU0Uo_M80A4",
        "u_3s7GpV9Pai",
        "u3RvQuf894IB",
        "M7njJ-bg-RKq",
        "2J0TEWIt-k_T",
        "8igXcLKC_C9b",
        "X_omDPbAAutM",
        "X6_kEi-vA-b0",
        "EB-OkPuvC2Gu",
        "po4NqCWrDeDX",
        "7q7qvuyUEdE9",
        "GJQ99qY9FvHG",
        "Hv50h4gMLULo",
        "-5-0wr4lYAot",
        "BDpBnQWdzQt_",
        "waRMa_R-0oev",
        "qUzxLmgX1Dvc",
        "KBU62-7vCfqS"
      ],
      "authorship_tag": "ABX9TyPCgFJIuDvPwPvftqeV9Cwu",
      "include_colab_link": true
    },
    "kernelspec": {
      "name": "python3",
      "display_name": "Python 3"
    },
    "language_info": {
      "name": "python"
    }
  },
  "cells": [
    {
      "cell_type": "markdown",
      "metadata": {
        "id": "view-in-github",
        "colab_type": "text"
      },
      "source": [
        "<a href=\"https://colab.research.google.com/github/Satyam-G-Kulkarni/Financial_Forecasting_Frontier/blob/main/Financial_Forecasting_Frontier.ipynb\" target=\"_parent\"><img src=\"https://colab.research.google.com/assets/colab-badge.svg\" alt=\"Open In Colab\"/></a>"
      ]
    },
    {
      "cell_type": "markdown",
      "source": [
        "# **Project Name** - Distributed ML for Banking Dataset"
      ],
      "metadata": {
        "id": "t2cneGmtxY_g"
      }
    },
    {
      "cell_type": "markdown",
      "source": [
        "**Contribution -** Individual\n",
        "\n",
        "**Name -** Satyam Kulkarni"
      ],
      "metadata": {
        "id": "M2wsEMc_x3yy"
      }
    },
    {
      "cell_type": "markdown",
      "source": [
        "# **GitHub Link**"
      ],
      "metadata": {
        "id": "p-sntDPJyEq9"
      }
    },
    {
      "cell_type": "markdown",
      "source": [
        "Link - https://github.com/Satyam-G-Kulkarni/Financial_Forecasting_Frontier"
      ],
      "metadata": {
        "id": "j0O34aGuyULU"
      }
    },
    {
      "cell_type": "markdown",
      "source": [
        "# **1.Exploratory Data Analysis (EDA) with Spark**"
      ],
      "metadata": {
        "id": "YY0Gxh52zhoi"
      }
    },
    {
      "cell_type": "markdown",
      "source": [
        "### **Installing packages and libraries**"
      ],
      "metadata": {
        "id": "mDhbgWl_7YR8"
      }
    },
    {
      "cell_type": "code",
      "source": [
        "# Install PySpark\n",
        "!apt-get update\n",
        "!apt-get install openjdk-8-jdk-headless -qq > /dev/null\n",
        "!pip install -q pyspark"
      ],
      "metadata": {
        "colab": {
          "base_uri": "https://localhost:8080/"
        },
        "id": "K8Zc__bE3Tzs",
        "outputId": "939125f1-8ab1-4635-dfb6-fdfd7d2d2ac6"
      },
      "execution_count": null,
      "outputs": [
        {
          "output_type": "stream",
          "name": "stdout",
          "text": [
            "\r0% [Working]\r            \rHit:1 http://security.ubuntu.com/ubuntu jammy-security InRelease\n",
            "\r0% [Waiting for headers] [Connected to cloud.r-project.org (52.85.151.8)] [Connecting to r2u.stat.il\r                                                                                                    \rHit:2 http://archive.ubuntu.com/ubuntu jammy InRelease\n",
            "\r0% [Waiting for headers] [Connected to cloud.r-project.org (52.85.151.8)] [Connecting to r2u.stat.il\r                                                                                                    \rHit:3 http://archive.ubuntu.com/ubuntu jammy-updates InRelease\n",
            "\r0% [Waiting for headers] [Connecting to r2u.stat.illinois.edu (192.17.190.167)] [Waiting for headers\r                                                                                                    \rHit:4 https://cloud.r-project.org/bin/linux/ubuntu jammy-cran40/ InRelease\n",
            "\r0% [Waiting for headers] [Connected to r2u.stat.illinois.edu (192.17.190.167)] [Waiting for headers]\r                                                                                                    \rHit:5 http://archive.ubuntu.com/ubuntu jammy-backports InRelease\n",
            "\r0% [Connected to r2u.stat.illinois.edu (192.17.190.167)] [Waiting for headers] [Connecting to ppa.la\r                                                                                                    \rHit:6 https://developer.download.nvidia.com/compute/cuda/repos/ubuntu2204/x86_64  InRelease\n",
            "Ign:7 https://r2u.stat.illinois.edu/ubuntu jammy InRelease\n",
            "Hit:8 https://r2u.stat.illinois.edu/ubuntu jammy Release\n",
            "Hit:9 https://ppa.launchpadcontent.net/deadsnakes/ppa/ubuntu jammy InRelease\n",
            "Hit:10 https://ppa.launchpadcontent.net/graphics-drivers/ppa/ubuntu jammy InRelease\n",
            "Hit:11 https://ppa.launchpadcontent.net/ubuntugis/ppa/ubuntu jammy InRelease\n",
            "Reading package lists... Done\n",
            "W: Skipping acquire of configured file 'main/source/Sources' as repository 'https://r2u.stat.illinois.edu/ubuntu jammy InRelease' does not seem to provide it (sources.list entry misspelt?)\n"
          ]
        }
      ]
    },
    {
      "cell_type": "code",
      "source": [
        "# Set up environment for Java\n",
        "import os\n",
        "os.environ[\"JAVA_HOME\"] = \"/usr/lib/jvm/java-8-openjdk-amd64\""
      ],
      "metadata": {
        "id": "p2bE85Iu4SKc"
      },
      "execution_count": null,
      "outputs": []
    },
    {
      "cell_type": "code",
      "source": [
        "# Import necessary libraries\n",
        "from pyspark.sql import SparkSession\n",
        "\n",
        "# Step 4: Initialize Spark session\n",
        "spark = SparkSession.builder.appName(\"Bank Data\").getOrCreate()"
      ],
      "metadata": {
        "id": "bFNEiIBv4eHR"
      },
      "execution_count": null,
      "outputs": []
    },
    {
      "cell_type": "markdown",
      "source": [
        "### **Data loading and basic inspection**"
      ],
      "metadata": {
        "id": "A4nG1Z5Z7iPY"
      }
    },
    {
      "cell_type": "code",
      "source": [
        "# Load dataset\n",
        "!wget https://raw.githubusercontent.com/Satyam-G-Kulkarni/Financial_Forecasting_Frontier/refs/heads/main/bank.csv -O bank.csv\n",
        "\n",
        "df = spark.read.csv(\"bank.csv\", header=True, inferSchema=True)\n",
        "\n",
        "df.show(5)  # Display the first 5 rows\n",
        "df.printSchema()"
      ],
      "metadata": {
        "colab": {
          "base_uri": "https://localhost:8080/"
        },
        "id": "FWjn1Bg_3XQl",
        "outputId": "0daca531-42dd-4f4c-998c-0ae901cd3bbd"
      },
      "execution_count": null,
      "outputs": [
        {
          "output_type": "stream",
          "name": "stdout",
          "text": [
            "--2024-10-07 14:25:12--  https://raw.githubusercontent.com/Satyam-G-Kulkarni/Financial_Forecasting_Frontier/refs/heads/main/bank.csv\n",
            "Resolving raw.githubusercontent.com (raw.githubusercontent.com)... 185.199.108.133, 185.199.109.133, 185.199.110.133, ...\n",
            "Connecting to raw.githubusercontent.com (raw.githubusercontent.com)|185.199.108.133|:443... connected.\n",
            "HTTP request sent, awaiting response... 200 OK\n",
            "Length: 375542 (367K) [text/plain]\n",
            "Saving to: ‘bank.csv’\n",
            "\n",
            "\rbank.csv              0%[                    ]       0  --.-KB/s               \rbank.csv            100%[===================>] 366.74K  --.-KB/s    in 0.05s   \n",
            "\n",
            "2024-10-07 14:25:12 (7.77 MB/s) - ‘bank.csv’ saved [375542/375542]\n",
            "\n",
            "+---+-----------+-------+---------+-------+-------+-------+----+--------+---+-----+--------+--------+-----+--------+--------+---+\n",
            "|age|        job|marital|education|default|balance|housing|loan| contact|day|month|duration|campaign|pdays|previous|poutcome|  y|\n",
            "+---+-----------+-------+---------+-------+-------+-------+----+--------+---+-----+--------+--------+-----+--------+--------+---+\n",
            "| 30| unemployed|married|  primary|     no|   1787|     no|  no|cellular| 19|  oct|      79|       1|   -1|       0| unknown| no|\n",
            "| 33|   services|married|secondary|     no|   4789|    yes| yes|cellular| 11|  may|     220|       1|  339|       4| failure| no|\n",
            "| 35| management| single| tertiary|     no|   1350|    yes|  no|cellular| 16|  apr|     185|       1|  330|       1| failure| no|\n",
            "| 30| management|married| tertiary|     no|   1476|    yes| yes| unknown|  3|  jun|     199|       4|   -1|       0| unknown| no|\n",
            "| 59|blue-collar|married|secondary|     no|      0|    yes|  no| unknown|  5|  may|     226|       1|   -1|       0| unknown| no|\n",
            "+---+-----------+-------+---------+-------+-------+-------+----+--------+---+-----+--------+--------+-----+--------+--------+---+\n",
            "only showing top 5 rows\n",
            "\n",
            "root\n",
            " |-- age: integer (nullable = true)\n",
            " |-- job: string (nullable = true)\n",
            " |-- marital: string (nullable = true)\n",
            " |-- education: string (nullable = true)\n",
            " |-- default: string (nullable = true)\n",
            " |-- balance: integer (nullable = true)\n",
            " |-- housing: string (nullable = true)\n",
            " |-- loan: string (nullable = true)\n",
            " |-- contact: string (nullable = true)\n",
            " |-- day: integer (nullable = true)\n",
            " |-- month: string (nullable = true)\n",
            " |-- duration: integer (nullable = true)\n",
            " |-- campaign: integer (nullable = true)\n",
            " |-- pdays: integer (nullable = true)\n",
            " |-- previous: integer (nullable = true)\n",
            " |-- poutcome: string (nullable = true)\n",
            " |-- y: string (nullable = true)\n",
            "\n"
          ]
        }
      ]
    },
    {
      "cell_type": "code",
      "source": [
        "# Data description\n",
        "\n",
        "df.describe().show()"
      ],
      "metadata": {
        "colab": {
          "base_uri": "https://localhost:8080/"
        },
        "id": "_euY-KDs5VSq",
        "outputId": "b25b82d7-5ae7-406a-d3ff-cf29c37900f4"
      },
      "execution_count": null,
      "outputs": [
        {
          "output_type": "stream",
          "name": "stdout",
          "text": [
            "+-------+------------------+-------+--------+---------+-------+------------------+-------+----+--------+------------------+-----+------------------+------------------+------------------+------------------+--------+----+\n",
            "|summary|               age|    job| marital|education|default|           balance|housing|loan| contact|               day|month|          duration|          campaign|             pdays|          previous|poutcome|   y|\n",
            "+-------+------------------+-------+--------+---------+-------+------------------+-------+----+--------+------------------+-----+------------------+------------------+------------------+------------------+--------+----+\n",
            "|  count|              4521|   4521|    4521|     4521|   4521|              4521|   4521|4521|    4521|              4521| 4521|              4521|              4521|              4521|              4521|    4521|4521|\n",
            "|   mean| 41.17009511170095|   NULL|    NULL|     NULL|   NULL|1422.6578190665782|   NULL|NULL|    NULL|15.915284229152842| NULL|263.96129174961294| 2.793629727936297|39.766644547666445|0.5425790754257908|    NULL|NULL|\n",
            "| stddev|10.576210958711263|   NULL|    NULL|     NULL|   NULL|3009.6381424673395|   NULL|NULL|    NULL| 8.247667327229934| NULL|259.85663262468216|3.1098066601885823|100.12112444301656|1.6935623506071211|    NULL|NULL|\n",
            "|    min|                19| admin.|divorced|  primary|     no|             -3313|     no|  no|cellular|                 1|  apr|                 4|                 1|                -1|                 0| failure|  no|\n",
            "|    max|                87|unknown|  single|  unknown|    yes|             71188|    yes| yes| unknown|                31|  sep|              3025|                50|               871|                25| unknown| yes|\n",
            "+-------+------------------+-------+--------+---------+-------+------------------+-------+----+--------+------------------+-----+------------------+------------------+------------------+------------------+--------+----+\n",
            "\n"
          ]
        }
      ]
    },
    {
      "cell_type": "code",
      "source": [
        "# Print null values\n",
        "\n",
        "from pyspark.sql.functions import col, sum\n",
        "\n",
        "null_counts = df.select([sum(col(column).isNull().cast(\"int\")).alias(column) for column in df.columns])\n",
        "null_counts.show()"
      ],
      "metadata": {
        "colab": {
          "base_uri": "https://localhost:8080/"
        },
        "id": "TrWRr_JR6u--",
        "outputId": "85995c5a-4f47-4fa2-c51b-bfd47f844809"
      },
      "execution_count": null,
      "outputs": [
        {
          "output_type": "stream",
          "name": "stdout",
          "text": [
            "+---+---+-------+---------+-------+-------+-------+----+-------+---+-----+--------+--------+-----+--------+--------+---+\n",
            "|age|job|marital|education|default|balance|housing|loan|contact|day|month|duration|campaign|pdays|previous|poutcome|  y|\n",
            "+---+---+-------+---------+-------+-------+-------+----+-------+---+-----+--------+--------+-----+--------+--------+---+\n",
            "|  0|  0|      0|        0|      0|      0|      0|   0|      0|  0|    0|       0|       0|    0|       0|       0|  0|\n",
            "+---+---+-------+---------+-------+-------+-------+----+-------+---+-----+--------+--------+-----+--------+--------+---+\n",
            "\n"
          ]
        }
      ]
    },
    {
      "cell_type": "markdown",
      "source": [
        "### **Data Filtering and Column Operations**"
      ],
      "metadata": {
        "id": "sx6UvFLH7ytP"
      }
    },
    {
      "cell_type": "code",
      "source": [
        "# Filter the dataset for clients with a balance greater than 1000\n",
        "\n",
        "filtered_df = df.filter(col(\"balance\") > 1000)\n",
        "\n",
        "filtered_df.show(5)"
      ],
      "metadata": {
        "colab": {
          "base_uri": "https://localhost:8080/"
        },
        "id": "lcreuaY575_P",
        "outputId": "14080418-5d00-4201-c27a-f09779db01ce"
      },
      "execution_count": null,
      "outputs": [
        {
          "output_type": "stream",
          "name": "stdout",
          "text": [
            "+---+----------+-------+---------+-------+-------+-------+----+--------+---+-----+--------+--------+-----+--------+--------+---+\n",
            "|age|       job|marital|education|default|balance|housing|loan| contact|day|month|duration|campaign|pdays|previous|poutcome|  y|\n",
            "+---+----------+-------+---------+-------+-------+-------+----+--------+---+-----+--------+--------+-----+--------+--------+---+\n",
            "| 30|unemployed|married|  primary|     no|   1787|     no|  no|cellular| 19|  oct|      79|       1|   -1|       0| unknown| no|\n",
            "| 33|  services|married|secondary|     no|   4789|    yes| yes|cellular| 11|  may|     220|       1|  339|       4| failure| no|\n",
            "| 35|management| single| tertiary|     no|   1350|    yes|  no|cellular| 16|  apr|     185|       1|  330|       1| failure| no|\n",
            "| 30|management|married| tertiary|     no|   1476|    yes| yes| unknown|  3|  jun|     199|       4|   -1|       0| unknown| no|\n",
            "| 39|  services|married|secondary|     no|   9374|    yes|  no| unknown| 20|  may|     273|       1|   -1|       0| unknown| no|\n",
            "+---+----------+-------+---------+-------+-------+-------+----+--------+---+-----+--------+--------+-----+--------+--------+---+\n",
            "only showing top 5 rows\n",
            "\n"
          ]
        }
      ]
    },
    {
      "cell_type": "code",
      "source": [
        "from pyspark.sql.functions import when, month\n",
        "# Extract the month from the 'month' column and create a new column for the quarter of the year\n",
        "\n",
        "quarter_df = filtered_df.withColumn(\n",
        "    \"quarter\",\n",
        "    when(month(\"month\") <= 3, 1)\n",
        "    .when((month(\"month\") > 3) & (month(\"month\") <= 6), 2)\n",
        "    .when((month(\"month\") > 6) & (month(\"month\") <= 9), 3)\n",
        "    .otherwise(4)\n",
        ")\n",
        "\n",
        "# Step 7: Show the first 5 rows of the new DataFrame\n",
        "quarter_df.show(5)"
      ],
      "metadata": {
        "colab": {
          "base_uri": "https://localhost:8080/"
        },
        "id": "KMhTB7as8QLe",
        "outputId": "ced6975f-ccb6-48c9-a987-e33050a88a45"
      },
      "execution_count": null,
      "outputs": [
        {
          "output_type": "stream",
          "name": "stdout",
          "text": [
            "+---+----------+-------+---------+-------+-------+-------+----+--------+---+-----+--------+--------+-----+--------+--------+---+-------+\n",
            "|age|       job|marital|education|default|balance|housing|loan| contact|day|month|duration|campaign|pdays|previous|poutcome|  y|quarter|\n",
            "+---+----------+-------+---------+-------+-------+-------+----+--------+---+-----+--------+--------+-----+--------+--------+---+-------+\n",
            "| 30|unemployed|married|  primary|     no|   1787|     no|  no|cellular| 19|  oct|      79|       1|   -1|       0| unknown| no|      4|\n",
            "| 33|  services|married|secondary|     no|   4789|    yes| yes|cellular| 11|  may|     220|       1|  339|       4| failure| no|      4|\n",
            "| 35|management| single| tertiary|     no|   1350|    yes|  no|cellular| 16|  apr|     185|       1|  330|       1| failure| no|      4|\n",
            "| 30|management|married| tertiary|     no|   1476|    yes| yes| unknown|  3|  jun|     199|       4|   -1|       0| unknown| no|      4|\n",
            "| 39|  services|married|secondary|     no|   9374|    yes|  no| unknown| 20|  may|     273|       1|   -1|       0| unknown| no|      4|\n",
            "+---+----------+-------+---------+-------+-------+-------+----+--------+---+-----+--------+--------+-----+--------+--------+---+-------+\n",
            "only showing top 5 rows\n",
            "\n"
          ]
        }
      ]
    },
    {
      "cell_type": "markdown",
      "source": [
        "### **GroupBy and Aggregation**"
      ],
      "metadata": {
        "id": "ZzU0Uo_M80A4"
      }
    },
    {
      "cell_type": "code",
      "source": [
        "from pyspark.sql import functions as F\n",
        "\n",
        "# Group by job type and calculate average balance and median age\n",
        "job_stats = df.groupBy(\"job\").agg(\n",
        "    F.avg(\"balance\").alias(\"average_balance\"),\n",
        "    F.expr(\"percentile_approx(age, 0.5)\").alias(\"median_age\")  # Median age\n",
        ")\n",
        "\n",
        "job_stats.show()\n"
      ],
      "metadata": {
        "colab": {
          "base_uri": "https://localhost:8080/"
        },
        "id": "v02GKW-l85gM",
        "outputId": "7442e7d1-c275-4ab4-8dcc-e743038a3279"
      },
      "execution_count": null,
      "outputs": [
        {
          "output_type": "stream",
          "name": "stdout",
          "text": [
            "+-------------+------------------+----------+\n",
            "|          job|   average_balance|median_age|\n",
            "+-------------+------------------+----------+\n",
            "|   management|1766.9287925696594|        38|\n",
            "|      retired| 2319.191304347826|        59|\n",
            "|      unknown|1501.7105263157894|        49|\n",
            "|self-employed|1392.4098360655737|        40|\n",
            "|      student|1543.8214285714287|        26|\n",
            "|  blue-collar| 1085.161733615222|        39|\n",
            "| entrepreneur|          1645.125|        41|\n",
            "|       admin.|  1226.73640167364|        38|\n",
            "|   technician|     1330.99609375|        38|\n",
            "|     services|1103.9568345323742|        37|\n",
            "|    housemaid|2083.8035714285716|        49|\n",
            "|   unemployed|       1089.421875|        41|\n",
            "+-------------+------------------+----------+\n",
            "\n"
          ]
        }
      ]
    },
    {
      "cell_type": "code",
      "source": [
        "# Count the number of clients for each marital status who have subscribed to a term deposit\n",
        "subscription_counts = df.groupBy(\"marital\").agg(\n",
        "    F.count(F.when(col(\"y\") == \"yes\", 1)).alias(\"total_clients_subscribed\")\n",
        ")\n",
        "\n",
        "subscription_counts.show()\n"
      ],
      "metadata": {
        "colab": {
          "base_uri": "https://localhost:8080/"
        },
        "id": "93TbMpxc9Kne",
        "outputId": "72820ce0-33c2-4f85-c98c-e049c1acc025"
      },
      "execution_count": null,
      "outputs": [
        {
          "output_type": "stream",
          "name": "stdout",
          "text": [
            "+--------+------------------------+\n",
            "| marital|total_clients_subscribed|\n",
            "+--------+------------------------+\n",
            "|divorced|                      77|\n",
            "| married|                     277|\n",
            "|  single|                     167|\n",
            "+--------+------------------------+\n",
            "\n"
          ]
        }
      ]
    },
    {
      "cell_type": "markdown",
      "source": [
        "### **Use UDF to Categorize Age Groups**"
      ],
      "metadata": {
        "id": "u_3s7GpV9Pai"
      }
    },
    {
      "cell_type": "code",
      "source": [
        "from pyspark.sql.functions import udf\n",
        "from pyspark.sql.types import StringType\n",
        "\n",
        "# Define the UDF\n",
        "def categorize_age(age):\n",
        "    if age < 25:\n",
        "        return '<25'\n",
        "    elif 25 <= age <= 65:\n",
        "        return '25-65'\n",
        "    else:\n",
        "        return '>65'\n",
        "\n",
        "# Register the UDF\n",
        "age_group_udf = udf(categorize_age, StringType())\n",
        "\n",
        "# Apply the UDF to create a new column 'age_group'\n",
        "df_with_age_group = df.withColumn(\"age_group\", age_group_udf(col(\"age\")))\n",
        "\n",
        "# Show the first 5 rows of the updated DataFrame\n",
        "df_with_age_group.show(5)\n"
      ],
      "metadata": {
        "colab": {
          "base_uri": "https://localhost:8080/"
        },
        "id": "D_Lk-HSs9UZA",
        "outputId": "800ab862-4c6d-419e-e0a1-9a24af15bdaa"
      },
      "execution_count": null,
      "outputs": [
        {
          "output_type": "stream",
          "name": "stdout",
          "text": [
            "+---+-----------+-------+---------+-------+-------+-------+----+--------+---+-----+--------+--------+-----+--------+--------+---+---------+\n",
            "|age|        job|marital|education|default|balance|housing|loan| contact|day|month|duration|campaign|pdays|previous|poutcome|  y|age_group|\n",
            "+---+-----------+-------+---------+-------+-------+-------+----+--------+---+-----+--------+--------+-----+--------+--------+---+---------+\n",
            "| 30| unemployed|married|  primary|     no|   1787|     no|  no|cellular| 19|  oct|      79|       1|   -1|       0| unknown| no|    25-65|\n",
            "| 33|   services|married|secondary|     no|   4789|    yes| yes|cellular| 11|  may|     220|       1|  339|       4| failure| no|    25-65|\n",
            "| 35| management| single| tertiary|     no|   1350|    yes|  no|cellular| 16|  apr|     185|       1|  330|       1| failure| no|    25-65|\n",
            "| 30| management|married| tertiary|     no|   1476|    yes| yes| unknown|  3|  jun|     199|       4|   -1|       0| unknown| no|    25-65|\n",
            "| 59|blue-collar|married|secondary|     no|      0|    yes|  no| unknown|  5|  may|     226|       1|   -1|       0| unknown| no|    25-65|\n",
            "+---+-----------+-------+---------+-------+-------+-------+----+--------+---+-----+--------+--------+-----+--------+--------+---+---------+\n",
            "only showing top 5 rows\n",
            "\n"
          ]
        }
      ]
    },
    {
      "cell_type": "markdown",
      "source": [
        "### **Advanced Data Transformations**"
      ],
      "metadata": {
        "id": "u3RvQuf894IB"
      }
    },
    {
      "cell_type": "code",
      "source": [
        "# Calculate the subscription rate (percentage of clients who subscribed to a term deposit) for each education level\n",
        "subscription_rate = df.groupBy(\"education\").agg(\n",
        "    (F.count(F.when(col(\"y\") == \"yes\", 1)) / F.count(\"*\") * 100).alias(\"subscription_rate\")\n",
        ")\n",
        "\n",
        "subscription_rate.show()\n"
      ],
      "metadata": {
        "colab": {
          "base_uri": "https://localhost:8080/"
        },
        "id": "VASJamSg91eW",
        "outputId": "2bc2d1a1-d36e-46b8-a34d-7311342e17ae"
      },
      "execution_count": null,
      "outputs": [
        {
          "output_type": "stream",
          "name": "stdout",
          "text": [
            "+---------+------------------+\n",
            "|education| subscription_rate|\n",
            "+---------+------------------+\n",
            "|  unknown| 10.16042780748663|\n",
            "| tertiary|14.296296296296296|\n",
            "|secondary|10.624457935819601|\n",
            "|  primary|  9.43952802359882|\n",
            "+---------+------------------+\n",
            "\n"
          ]
        }
      ]
    },
    {
      "cell_type": "code",
      "source": [
        "# Calculate loan default rate for each profession (assumed that 'loan' indicates if a loan is defaulted)\n",
        "loan_default_rate = df.groupBy(\"job\").agg(\n",
        "    (F.count(F.when(col(\"loan\") == \"yes\", 1)) / F.count(\"*\") * 100).alias(\"loan_default_rate\")\n",
        ")\n",
        "\n",
        "# Get the top 3 professions with the highest loan default rate\n",
        "top_3_professions = loan_default_rate.orderBy(col(\"loan_default_rate\").desc()).limit(3)\n",
        "\n",
        "top_3_professions.show()\n"
      ],
      "metadata": {
        "colab": {
          "base_uri": "https://localhost:8080/"
        },
        "id": "BTgFTOFG-MdT",
        "outputId": "c81dcea2-7a37-4797-b10f-c2c9544e3142"
      },
      "execution_count": null,
      "outputs": [
        {
          "output_type": "stream",
          "name": "stdout",
          "text": [
            "+------------+------------------+\n",
            "|         job| loan_default_rate|\n",
            "+------------+------------------+\n",
            "|entrepreneur|24.404761904761905|\n",
            "|      admin.| 19.03765690376569|\n",
            "|    services| 17.74580335731415|\n",
            "+------------+------------------+\n",
            "\n"
          ]
        }
      ]
    },
    {
      "cell_type": "markdown",
      "source": [
        "### **String Manipulation and Date Functions**"
      ],
      "metadata": {
        "id": "M7njJ-bg-RKq"
      }
    },
    {
      "cell_type": "code",
      "source": [
        "# Concatenate 'job' and 'marital' columns into a new column 'job_marital'\n",
        "df_with_job_marital = df.withColumn(\"job_marital\", F.concat_ws(\"_\", col(\"job\"), col(\"marital\")))\n",
        "\n",
        "df_with_job_marital.show(5)\n"
      ],
      "metadata": {
        "colab": {
          "base_uri": "https://localhost:8080/"
        },
        "id": "rubLtwh--WC_",
        "outputId": "d111f468-b9eb-48e5-bd56-f9bf0915bb8d"
      },
      "execution_count": null,
      "outputs": [
        {
          "output_type": "stream",
          "name": "stdout",
          "text": [
            "+---+-----------+-------+---------+-------+-------+-------+----+--------+---+-----+--------+--------+-----+--------+--------+---+-------------------+\n",
            "|age|        job|marital|education|default|balance|housing|loan| contact|day|month|duration|campaign|pdays|previous|poutcome|  y|        job_marital|\n",
            "+---+-----------+-------+---------+-------+-------+-------+----+--------+---+-----+--------+--------+-----+--------+--------+---+-------------------+\n",
            "| 30| unemployed|married|  primary|     no|   1787|     no|  no|cellular| 19|  oct|      79|       1|   -1|       0| unknown| no| unemployed_married|\n",
            "| 33|   services|married|secondary|     no|   4789|    yes| yes|cellular| 11|  may|     220|       1|  339|       4| failure| no|   services_married|\n",
            "| 35| management| single| tertiary|     no|   1350|    yes|  no|cellular| 16|  apr|     185|       1|  330|       1| failure| no|  management_single|\n",
            "| 30| management|married| tertiary|     no|   1476|    yes| yes| unknown|  3|  jun|     199|       4|   -1|       0| unknown| no| management_married|\n",
            "| 59|blue-collar|married|secondary|     no|      0|    yes|  no| unknown|  5|  may|     226|       1|   -1|       0| unknown| no|blue-collar_married|\n",
            "+---+-----------+-------+---------+-------+-------+-------+----+--------+---+-----+--------+--------+-----+--------+--------+---+-------------------+\n",
            "only showing top 5 rows\n",
            "\n"
          ]
        }
      ]
    },
    {
      "cell_type": "code",
      "source": [
        "# Use string functions to convert the 'contact' column to uppercase\n",
        "df_with_upper_contact = df_with_job_marital.withColumn(\"contact\", F.upper(col(\"contact\")))\n",
        "\n",
        "df_with_upper_contact.show(5)\n"
      ],
      "metadata": {
        "colab": {
          "base_uri": "https://localhost:8080/"
        },
        "id": "vfZlmH8P-c4B",
        "outputId": "9998c6b4-4aeb-4327-883d-50531d5babc6"
      },
      "execution_count": null,
      "outputs": [
        {
          "output_type": "stream",
          "name": "stdout",
          "text": [
            "+---+-----------+-------+---------+-------+-------+-------+----+--------+---+-----+--------+--------+-----+--------+--------+---+-------------------+\n",
            "|age|        job|marital|education|default|balance|housing|loan| contact|day|month|duration|campaign|pdays|previous|poutcome|  y|        job_marital|\n",
            "+---+-----------+-------+---------+-------+-------+-------+----+--------+---+-----+--------+--------+-----+--------+--------+---+-------------------+\n",
            "| 30| unemployed|married|  primary|     no|   1787|     no|  no|CELLULAR| 19|  oct|      79|       1|   -1|       0| unknown| no| unemployed_married|\n",
            "| 33|   services|married|secondary|     no|   4789|    yes| yes|CELLULAR| 11|  may|     220|       1|  339|       4| failure| no|   services_married|\n",
            "| 35| management| single| tertiary|     no|   1350|    yes|  no|CELLULAR| 16|  apr|     185|       1|  330|       1| failure| no|  management_single|\n",
            "| 30| management|married| tertiary|     no|   1476|    yes| yes| UNKNOWN|  3|  jun|     199|       4|   -1|       0| unknown| no| management_married|\n",
            "| 59|blue-collar|married|secondary|     no|      0|    yes|  no| UNKNOWN|  5|  may|     226|       1|   -1|       0| unknown| no|blue-collar_married|\n",
            "+---+-----------+-------+---------+-------+-------+-------+----+--------+---+-----+--------+--------+-----+--------+--------+---+-------------------+\n",
            "only showing top 5 rows\n",
            "\n"
          ]
        }
      ]
    },
    {
      "cell_type": "markdown",
      "source": [
        "### **Data Visualization**"
      ],
      "metadata": {
        "id": "2J0TEWIt-k_T"
      }
    },
    {
      "cell_type": "code",
      "source": [
        "# Convert Spark DataFrame to Pandas DataFrame\n",
        "pandas_df = df_with_upper_contact.toPandas()\n"
      ],
      "metadata": {
        "id": "r2DH9V0n-kWb"
      },
      "execution_count": null,
      "outputs": []
    },
    {
      "cell_type": "code",
      "source": [
        "import matplotlib.pyplot as plt\n",
        "\n",
        "# Create a bar plot for the count of clients by job type\n",
        "job_counts = pandas_df['job'].value_counts()\n",
        "print(job_counts)\n",
        "\n",
        "plt.figure(figsize=(10, 6))\n",
        "job_counts.plot(kind='bar')\n",
        "plt.title('Count of Clients by Job Type')\n",
        "plt.xlabel('Job Type')\n",
        "plt.ylabel('Number of Clients')\n",
        "plt.xticks(rotation=45)\n",
        "plt.grid(axis='y')\n",
        "plt.tight_layout()\n",
        "plt.show()\n"
      ],
      "metadata": {
        "colab": {
          "base_uri": "https://localhost:8080/"
        },
        "id": "wWkoBigG-9W3",
        "outputId": "20f52918-e30e-4e57-f96e-8c8f83ae8690"
      },
      "execution_count": null,
      "outputs": [
        {
          "output_type": "stream",
          "name": "stdout",
          "text": [
            "job\n",
            "management       969\n",
            "blue-collar      946\n",
            "technician       768\n",
            "admin.           478\n",
            "services         417\n",
            "retired          230\n",
            "self-employed    183\n",
            "entrepreneur     168\n",
            "unemployed       128\n",
            "housemaid        112\n",
            "student           84\n",
            "unknown           38\n",
            "Name: count, dtype: int64\n"
          ]
        },
        {
          "output_type": "display_data",
          "data": {
            "text/plain": [
              "<Figure size 1000x600 with 1 Axes>"
            ],
            "image/png": "[encoded data removed]"
          },
          "metadata": {}
        }
      ]
    },
    {
      "cell_type": "markdown",
      "source": [
        "### **Complex Queries for Insights**"
      ],
      "metadata": {
        "id": "8igXcLKC_C9b"
      }
    },
    {
      "cell_type": "code",
      "source": [
        "# 1. Determine which month has the highest number of clients contacted\n",
        "month_contacted_counts = pandas_df['month'].value_counts().reset_index()\n",
        "month_contacted_counts.columns = ['month', 'num_contacts']\n",
        "month_contacted_counts = month_contacted_counts.sort_values(by='num_contacts', ascending=False)\n",
        "\n",
        "month_with_max_contacts = month_contacted_counts.iloc[0]['month']\n",
        "\n",
        "# 2. Calculate the success rate of the campaign in that month\n",
        "month_df = pandas_df[pandas_df['month'] == month_with_max_contacts]\n",
        "success_rate = month_df['y'].value_counts(normalize=True).get('yes', 0) * 100\n",
        "\n",
        "# Show the month with the highest number of contacts and its success rate\n",
        "print(\"Month Contacted Counts:\")\n",
        "print(month_contacted_counts)\n",
        "\n",
        "print(f\"\\nSuccess Rate in {month_with_max_contacts}: {success_rate:.2f}%\")\n",
        "\n",
        "# Calculate success rate based on credit default status\n",
        "success_rate_default = pandas_df[pandas_df['default'] == 'yes']['y'].value_counts(normalize=True).get('yes', 0) * 100\n",
        "success_rate_non_default = pandas_df[pandas_df['default'] == 'no']['y'].value_counts(normalize=True).get('yes', 0) * 100\n",
        "\n",
        "print(f\"Success rate for clients with credit default: {success_rate_default:.2f}%\")\n",
        "print(f\"Success rate for clients without credit default: {success_rate_non_default:.2f}%\")\n",
        "\n"
      ],
      "metadata": {
        "colab": {
          "base_uri": "https://localhost:8080/"
        },
        "id": "02OiLTw5_IR7",
        "outputId": "1f7a19c7-5166-4a81-d7d9-0bf2c88fc276"
      },
      "execution_count": null,
      "outputs": [
        {
          "output_type": "stream",
          "name": "stdout",
          "text": [
            "Month Contacted Counts:\n",
            "   month  num_contacts\n",
            "0    may          1398\n",
            "1    jul           706\n",
            "2    aug           633\n",
            "3    jun           531\n",
            "4    nov           389\n",
            "5    apr           293\n",
            "6    feb           222\n",
            "7    jan           148\n",
            "8    oct            80\n",
            "9    sep            52\n",
            "10   mar            49\n",
            "11   dec            20\n",
            "\n",
            "Success Rate in may: 6.65%\n",
            "Success rate for clients with credit default: 11.84%\n",
            "Success rate for clients without credit default: 11.52%\n"
          ]
        }
      ]
    },
    {
      "cell_type": "code",
      "source": [
        "# Calculate average duration of contact for clients who subscribed versus those who did not\n",
        "average_duration = pandas_df.groupby('y')['duration'].mean().reset_index()\n",
        "\n",
        "print(\"Average Duration of Contact:\")\n",
        "print(average_duration)\n"
      ],
      "metadata": {
        "colab": {
          "base_uri": "https://localhost:8080/"
        },
        "id": "udQzRw8Q_Uwq",
        "outputId": "b679af0d-41b2-4c63-bcf7-2a2d596d5629"
      },
      "execution_count": null,
      "outputs": [
        {
          "output_type": "stream",
          "name": "stdout",
          "text": [
            "Average Duration of Contact:\n",
            "     y    duration\n",
            "0   no  226.347500\n",
            "1  yes  552.742802\n"
          ]
        }
      ]
    },
    {
      "cell_type": "markdown",
      "source": [
        "### **Correlation Between Age and Balance**"
      ],
      "metadata": {
        "id": "X_omDPbAAutM"
      }
    },
    {
      "cell_type": "code",
      "source": [
        "# Calculate the correlation coefficient between 'age' and 'balance'\n",
        "correlation = pandas_df['age'].corr(pandas_df['balance'])\n",
        "\n",
        "print(f\"Correlation coefficient between age and balance: {correlation:.4f}\")\n"
      ],
      "metadata": {
        "colab": {
          "base_uri": "https://localhost:8080/"
        },
        "id": "iq475CChA10U",
        "outputId": "0c3c0f2d-3eb8-4ea6-dbbe-c17b0970b85f"
      },
      "execution_count": null,
      "outputs": [
        {
          "output_type": "stream",
          "name": "stdout",
          "text": [
            "Correlation coefficient between age and balance: 0.0838\n"
          ]
        }
      ]
    },
    {
      "cell_type": "markdown",
      "source": [
        "### **Exploring Loan Defaults**"
      ],
      "metadata": {
        "id": "X6_kEi-vA-b0"
      }
    },
    {
      "cell_type": "code",
      "source": [
        "# Calculate the counts of clients with and without a credit default\n",
        "default_counts = pandas_df['default'].value_counts(normalize=True)\n",
        "\n",
        "print(\"Proportion of Clients with and without Credit Default:\")\n",
        "print(default_counts)\n"
      ],
      "metadata": {
        "colab": {
          "base_uri": "https://localhost:8080/"
        },
        "id": "Znrs6aHABDIp",
        "outputId": "777a693d-6cb1-41a1-b244-ac7dd7eea1b8"
      },
      "execution_count": null,
      "outputs": [
        {
          "output_type": "stream",
          "name": "stdout",
          "text": [
            "Proportion of Clients with and without Credit Default:\n",
            "default\n",
            "no     0.98319\n",
            "yes    0.01681\n",
            "Name: proportion, dtype: float64\n"
          ]
        }
      ]
    },
    {
      "cell_type": "code",
      "source": [
        "# Visualize the counts of defaulters and non-defaulters\n",
        "import matplotlib.pyplot as plt\n",
        "\n",
        "# Create a bar plot\n",
        "plt.figure(figsize=(8, 5))\n",
        "pandas_df['default'].value_counts().plot(kind='bar', color=['green', 'red'])\n",
        "plt.title('Count of Clients with and without Credit Default')\n",
        "plt.xlabel('Credit Default Status')\n",
        "plt.ylabel('Number of Clients')\n",
        "plt.xticks(rotation=0)\n",
        "plt.grid(axis='y')\n",
        "plt.tight_layout()\n",
        "plt.show()\n"
      ],
      "metadata": {
        "colab": {
          "base_uri": "https://localhost:8080/"
        },
        "id": "RAR9Z0_dCIBB",
        "outputId": "a92f2f1a-25f5-4758-cb2f-445630c95487"
      },
      "execution_count": null,
      "outputs": [
        {
          "output_type": "display_data",
          "data": {
            "text/plain": [
              "<Figure size 800x500 with 1 Axes>"
            ],
            "image/png": "[encoded data removed]"
          },
          "metadata": {}
        }
      ]
    },
    {
      "cell_type": "markdown",
      "source": [
        "### **Contact Method Analysis**"
      ],
      "metadata": {
        "id": "EB-OkPuvC2Gu"
      }
    },
    {
      "cell_type": "code",
      "source": [
        "# Calculate the success rate for each contact method\n",
        "success_rate_by_contact = pandas_df.groupby('contact')['y'].value_counts(normalize=True).unstack().fillna(0)\n",
        "\n",
        "# Calculate success rate\n",
        "success_rate_by_contact['success_rate'] = success_rate_by_contact['yes'] * 100\n",
        "\n",
        "# Display success rates\n",
        "print(\"Success Rates by Contact Method:\")\n",
        "print(success_rate_by_contact[['success_rate']])\n",
        "\n",
        "# Visualize the success rates\n",
        "import matplotlib.pyplot as plt\n",
        "\n",
        "plt.figure(figsize=(10, 6))\n",
        "success_rate_by_contact['success_rate'].plot(kind='bar', color='skyblue')\n",
        "plt.title('Success Rate for Term Deposit Subscriptions by Contact Method')\n",
        "plt.xlabel('Contact Method')\n",
        "plt.ylabel('Success Rate (%)')\n",
        "plt.xticks(rotation=45)\n",
        "plt.grid(axis='y')\n",
        "plt.tight_layout()\n",
        "plt.show()\n"
      ],
      "metadata": {
        "colab": {
          "base_uri": "https://localhost:8080/"
        },
        "id": "EenhV_yoC7I1",
        "outputId": "f5fa365f-8a59-4d06-8a68-9455a972faa8"
      },
      "execution_count": null,
      "outputs": [
        {
          "output_type": "stream",
          "name": "stdout",
          "text": [
            "Success Rates by Contact Method:\n",
            "y          success_rate\n",
            "contact                \n",
            "CELLULAR      14.364641\n",
            "TELEPHONE     14.617940\n",
            "UNKNOWN        4.607251\n"
          ]
        },
        {
          "output_type": "display_data",
          "data": {
            "text/plain": [
              "<Figure size 1000x600 with 1 Axes>"
            ],
            "image/png": "[encoded data removed]"
          },
          "metadata": {}
        }
      ]
    },
    {
      "cell_type": "markdown",
      "source": [
        "### **Data Processing with Spark SQL**"
      ],
      "metadata": {
        "id": "po4NqCWrDeDX"
      }
    },
    {
      "cell_type": "code",
      "source": [
        "# Create a temporary view of the DataFrame\n",
        "df.createOrReplaceTempView(\"bank_data\")\n",
        "\n",
        "# Calculate the average account balance for different age groups\n",
        "avg_balance_age_query = \"\"\"\n",
        "SELECT\n",
        "    CASE\n",
        "        WHEN age < 25 THEN '<25'\n",
        "        WHEN age BETWEEN 25 AND 65 THEN '25-65'\n",
        "        ELSE '>65'\n",
        "    END AS age_group,\n",
        "    AVG(balance) AS average_balance\n",
        "FROM\n",
        "    bank_data\n",
        "GROUP BY\n",
        "    age_group\n",
        "ORDER BY\n",
        "    age_group\n",
        "\"\"\"\n",
        "\n",
        "avg_balance_age_df = spark.sql(avg_balance_age_query)\n",
        "avg_balance_age_df.show()\n"
      ],
      "metadata": {
        "colab": {
          "base_uri": "https://localhost:8080/"
        },
        "id": "F22BeU9eDlBM",
        "outputId": "5132973b-f169-438d-a41e-31ac5f3f4263"
      },
      "execution_count": null,
      "outputs": [
        {
          "output_type": "stream",
          "name": "stdout",
          "text": [
            "+---------+------------------+\n",
            "|age_group|   average_balance|\n",
            "+---------+------------------+\n",
            "|    25-65|1391.7293525509037|\n",
            "|      <25|1293.5223880597016|\n",
            "|      >65|3155.6746987951806|\n",
            "+---------+------------------+\n",
            "\n"
          ]
        }
      ]
    },
    {
      "cell_type": "code",
      "source": [
        "# Calculate average account balance for the most common job types\n",
        "avg_balance_job_query = \"\"\"\n",
        "SELECT\n",
        "    job,\n",
        "    AVG(balance) AS average_balance\n",
        "FROM\n",
        "    bank_data\n",
        "GROUP BY\n",
        "    job\n",
        "ORDER BY\n",
        "    average_balance DESC\n",
        "LIMIT 10  -- Limiting to the top 10 job types with highest average balance\n",
        "\"\"\"\n",
        "\n",
        "avg_balance_job_df = spark.sql(avg_balance_job_query)\n",
        "avg_balance_job_df.show()\n"
      ],
      "metadata": {
        "colab": {
          "base_uri": "https://localhost:8080/"
        },
        "id": "gfMEVzjHD9fl",
        "outputId": "f7219428-eb86-491a-bdba-c260dc730397"
      },
      "execution_count": null,
      "outputs": [
        {
          "output_type": "stream",
          "name": "stdout",
          "text": [
            "+-------------+------------------+\n",
            "|          job|   average_balance|\n",
            "+-------------+------------------+\n",
            "|      retired| 2319.191304347826|\n",
            "|    housemaid|2083.8035714285716|\n",
            "|   management|1766.9287925696594|\n",
            "| entrepreneur|          1645.125|\n",
            "|      student|1543.8214285714287|\n",
            "|      unknown|1501.7105263157894|\n",
            "|self-employed|1392.4098360655737|\n",
            "|   technician|     1330.99609375|\n",
            "|       admin.|  1226.73640167364|\n",
            "|     services|1103.9568345323742|\n",
            "+-------------+------------------+\n",
            "\n"
          ]
        }
      ]
    },
    {
      "cell_type": "markdown",
      "source": [
        "## **Brief Summary of above results**"
      ],
      "metadata": {
        "id": "7q7qvuyUEdE9"
      }
    },
    {
      "cell_type": "markdown",
      "source": [
        "The analysis of the dataset reveals several key insights regarding client subscriptions, job types, and contact methods. Among different education levels, clients with tertiary education exhibited the highest subscription rate to term deposits at approximately 14.30%, while those with unknown education had the lowest rate at about 10.16%. When examining job types, entrepreneurs demonstrated the highest loan default rate at 24.40%, followed by administrators at 19.04% and service workers at 17.75%. The most common professions in the dataset were management, blue-collar, and technician roles, with management having the highest average account balance at approximately 1,766.93.\n",
        "\n",
        "Additionally, the month of May saw the highest number of client contacts, totaling 1,398, yet the success rate for subscriptions during that month was relatively low at 6.65%. Notably, the success rate was marginally higher for clients with credit defaults (11.84%) compared to those without (11.52%). The average contact duration also varied, with clients who subscribed averaging about 552.74 seconds, while those who did not averaged around 226.35 seconds. The correlation coefficient between age and balance was found to be low at 0.0838, indicating little linear relationship between these two variables. Finally, the analysis revealed that 98.32% of clients did not have a credit default, emphasizing the overall financial stability of the client base. In terms of contact methods, telephone contact showed the highest success rate at approximately 14.62%, while cellular contact was slightly lower at 14.36%, and unknown methods had a significantly lower success rate of 4.61%."
      ],
      "metadata": {
        "id": "dc11_OwhEj7h"
      }
    },
    {
      "cell_type": "markdown",
      "source": [
        "# **2. Predictive Modeling for Banking Trends**"
      ],
      "metadata": {
        "id": "GJQ99qY9FvHG"
      }
    },
    {
      "cell_type": "markdown",
      "source": [
        "### **Data Preprocessing**"
      ],
      "metadata": {
        "id": "MrqZmsG7Gs4K"
      }
    },
    {
      "cell_type": "code",
      "source": [
        "from pyspark.sql.functions import col, sum\n",
        "\n",
        "# Count missing values for each column\n",
        "missing_values = df.select([sum(col(c).isNull().cast(\"int\")).alias(c) for c in df.columns])\n",
        "missing_values.show()\n"
      ],
      "metadata": {
        "colab": {
          "base_uri": "https://localhost:8080/"
        },
        "id": "9qrU2KNYH8vt",
        "outputId": "3858f5a7-6723-48f4-c169-30765d706002"
      },
      "execution_count": null,
      "outputs": [
        {
          "output_type": "stream",
          "name": "stdout",
          "text": [
            "+---+---+-------+---------+-------+-------+-------+----+-------+---+-----+--------+--------+-----+--------+--------+---+\n",
            "|age|job|marital|education|default|balance|housing|loan|contact|day|month|duration|campaign|pdays|previous|poutcome|  y|\n",
            "+---+---+-------+---------+-------+-------+-------+----+-------+---+-----+--------+--------+-----+--------+--------+---+\n",
            "|  0|  0|      0|        0|      0|      0|      0|   0|      0|  0|    0|       0|       0|    0|       0|       0|  0|\n",
            "+---+---+-------+---------+-------+-------+-------+----+-------+---+-----+--------+--------+-----+--------+--------+---+\n",
            "\n"
          ]
        }
      ]
    },
    {
      "cell_type": "code",
      "source": [
        "# Create a copy of the dataset for preprocessing\n",
        "# Copy the DataFrame\n",
        "preprocessed_df = df.select(\"*\")"
      ],
      "metadata": {
        "id": "ct5moKvsIBEl"
      },
      "execution_count": null,
      "outputs": []
    },
    {
      "cell_type": "code",
      "source": [
        "from pyspark.sql import functions as F\n",
        "\n",
        "# Function to remove outliers using IQR method\n",
        "def remove_outliers(df, column):\n",
        "    quantiles = df.approxQuantile(column, [0.25, 0.75], 0.05)\n",
        "    Q1 = quantiles[0]\n",
        "    Q3 = quantiles[1]\n",
        "    IQR = Q3 - Q1\n",
        "    lower_bound = Q1 - 1.5 * IQR\n",
        "    upper_bound = Q3 + 1.5 * IQR\n",
        "    return df.filter((df[column] >= lower_bound) & (df[column] <= upper_bound))\n",
        "\n",
        "# Remove outliers from continuous columns\n",
        "columns_to_check = ['balance', 'age', 'duration']  # Add other continuous columns as necessary\n",
        "for col in columns_to_check:\n",
        "    preprocessed_df = remove_outliers(preprocessed_df, col)\n"
      ],
      "metadata": {
        "id": "8dC-xP8QIa-s"
      },
      "execution_count": null,
      "outputs": []
    },
    {
      "cell_type": "markdown",
      "source": [
        "### **Feature Engineering and Data Transformation**"
      ],
      "metadata": {
        "id": "ys4WvwgpJ9t0"
      }
    },
    {
      "cell_type": "code",
      "source": [
        "from pyspark.ml.feature import StringIndexer, OneHotEncoder, VectorAssembler\n",
        "from pyspark.sql import DataFrame\n",
        "\n",
        "def preprocess_data(df: DataFrame, categorical_cols: list, continuous_cols: list, target_col: str) -> DataFrame:\n",
        "\n",
        "    # Apply StringIndexer to convert categorical columns to numerical format\n",
        "    indexers = [StringIndexer(inputCol=col, outputCol=col + \"_indexed\").fit(df) for col in categorical_cols]\n",
        "    for indexer in indexers:\n",
        "        df = indexer.transform(df)\n",
        "\n",
        "    # Apply OneHotEncoder to indexed columns\n",
        "    encoder = OneHotEncoder(inputCols=[col + \"_indexed\" for col in categorical_cols],\n",
        "                            outputCols=[col + \"_encoded\" for col in categorical_cols])\n",
        "    df = encoder.fit(df).transform(df)\n",
        "\n",
        "    # Assemble all features (continuous and one-hot encoded categorical features)\n",
        "    encoded_cols = [col + \"_encoded\" for col in categorical_cols]\n",
        "    assembler = VectorAssembler(inputCols=continuous_cols + encoded_cols, outputCol=\"features\")\n",
        "    df = assembler.transform(df)\n",
        "\n",
        "    # Index the target variable\n",
        "    label_indexer = StringIndexer(inputCol=target_col, outputCol='label')\n",
        "    df = label_indexer.fit(df).transform(df)\n",
        "\n",
        "    # Select only the features and label for model training\n",
        "    final_df = df.select(\"features\", \"label\")\n",
        "\n",
        "    return final_df\n",
        "\n",
        "# usage:\n",
        "categorical_columns = ['job', 'marital', 'education', 'default', 'housing', 'loan', 'contact', 'month', 'poutcome']\n",
        "continuous_columns = ['age', 'balance', 'duration', 'campaign', 'pdays', 'previous']\n",
        "target_variable = 'y'\n"
      ],
      "metadata": {
        "id": "20Zj0stZKApW"
      },
      "execution_count": null,
      "outputs": []
    },
    {
      "cell_type": "code",
      "source": [
        "# Call the function with your preprocessed DataFrame\n",
        "final_df = preprocess_data(preprocessed_df, categorical_columns, continuous_columns, target_variable)"
      ],
      "metadata": {
        "id": "2eMNNCt3hqXG"
      },
      "execution_count": null,
      "outputs": []
    },
    {
      "cell_type": "code",
      "source": [
        "print(final_df)"
      ],
      "metadata": {
        "colab": {
          "base_uri": "https://localhost:8080/"
        },
        "id": "3PKfVBFVuczg",
        "outputId": "5e5580db-9e01-4c7a-837f-d1987301c0b2"
      },
      "execution_count": null,
      "outputs": [
        {
          "output_type": "stream",
          "name": "stdout",
          "text": [
            "DataFrame[features: vector, label: double]\n"
          ]
        }
      ]
    },
    {
      "cell_type": "markdown",
      "source": [
        "### **Model Training and Selection**"
      ],
      "metadata": {
        "id": "MOO3LuZwKQ1k"
      }
    },
    {
      "cell_type": "markdown",
      "source": [
        "Random forest classifier is used as it is robust to overfitting."
      ],
      "metadata": {
        "id": "jB6Iy6EnKWND"
      }
    },
    {
      "cell_type": "code",
      "source": [
        "from pyspark.ml.tuning import ParamGridBuilder, CrossValidator\n",
        "from pyspark.ml.evaluation import BinaryClassificationEvaluator\n",
        "from pyspark.ml.classification import RandomForestClassifier\n",
        "from pyspark.sql import functions as F\n",
        "\n",
        "# Split the data into 80% training and 20% test sets\n",
        "train_df, test_df = final_df.randomSplit([0.8, 0.2], seed=42)"
      ],
      "metadata": {
        "id": "v9o7x56YKcE0"
      },
      "execution_count": null,
      "outputs": []
    },
    {
      "cell_type": "code",
      "source": [
        "# Initialize the Random Forest Classifier\n",
        "rf = RandomForestClassifier(featuresCol=\"features\", labelCol=\"label\", numTrees=100, maxDepth=5)\n",
        "\n",
        "# Train the model on the training data\n",
        "rf_model = rf.fit(train_df)\n",
        "\n",
        "# Predictions on the test data\n",
        "predictions = rf_model.transform(test_df)\n"
      ],
      "metadata": {
        "id": "BQqTtE28Koit"
      },
      "execution_count": null,
      "outputs": []
    },
    {
      "cell_type": "markdown",
      "source": [
        "### **Model Evaluation**"
      ],
      "metadata": {
        "id": "Hv50h4gMLULo"
      }
    },
    {
      "cell_type": "code",
      "source": [
        "# Initialize Binary Classification Evaluator (for AUC)\n",
        "evaluator = BinaryClassificationEvaluator(labelCol=\"label\", rawPredictionCol=\"rawPrediction\", metricName=\"areaUnderROC\")\n",
        "\n",
        "# Calculate AUC\n",
        "auc = evaluator.evaluate(predictions)\n",
        "print(f\"Test AUC: {auc}\")\n",
        "\n",
        "# Alternatively, you can calculate accuracy\n",
        "accuracy = predictions.filter(predictions.label == predictions.prediction).count() / float(test_df.count())\n",
        "print(f\"Test Accuracy: {accuracy}\")\n"
      ],
      "metadata": {
        "colab": {
          "base_uri": "https://localhost:8080/"
        },
        "id": "Y2AjtbUtLYpC",
        "outputId": "db6ef0d9-6965-4241-843c-0d34b1c8a048"
      },
      "execution_count": null,
      "outputs": [
        {
          "output_type": "stream",
          "name": "stdout",
          "text": [
            "Test AUC: 0.8804660905996323\n",
            "Test Accuracy: 0.9407176287051482\n"
          ]
        }
      ]
    },
    {
      "cell_type": "markdown",
      "source": [
        "### **Hyperparameter Tuning**"
      ],
      "metadata": {
        "id": "5HOuJYh5MorF"
      }
    },
    {
      "cell_type": "code",
      "source": [
        "import random\n",
        "from pyspark.ml.classification import RandomForestClassifier\n",
        "from pyspark.ml.evaluation import BinaryClassificationEvaluator\n",
        "\n",
        "# Set a random seed for reproducibility\n",
        "random.seed(44)\n",
        "\n",
        "# Function to generate random hyperparameters\n",
        "def generate_random_params():\n",
        "    return {\n",
        "        'numTrees': random.choice([50, 100, 150]),\n",
        "        'maxDepth': random.choice([5, 10, 15]),\n",
        "        'minInfoGain': random.choice([0.0])\n",
        "    }\n",
        "\n",
        "# Initialize the Binary Classification Evaluator\n",
        "evaluator = BinaryClassificationEvaluator(labelCol=\"label\", rawPredictionCol=\"rawPrediction\", metricName=\"areaUnderROC\")\n",
        "\n",
        "# Number of random searches\n",
        "n_random_searches = 10\n",
        "best_model = None\n",
        "best_roc_value = 0.0\n",
        "best_params = {}\n",
        "\n",
        "# Random Search Cross-Validation\n",
        "for _ in range(n_random_searches):\n",
        "    # Generate random hyperparameters\n",
        "    params = generate_random_params()\n",
        "\n",
        "    # Initialize the Random Forest Classifier with random parameters\n",
        "    rf = RandomForestClassifier(featuresCol=\"features\", labelCol=\"label\",\n",
        "                                numTrees=params['numTrees'],\n",
        "                                maxDepth=params['maxDepth'],\n",
        "                                minInfoGain=params['minInfoGain'])\n",
        "\n",
        "    # Fit the model on the training data\n",
        "    model = rf.fit(train_df)\n",
        "\n",
        "    # Make predictions on the test data\n",
        "    predictions = model.transform(test_df)\n",
        "\n",
        "    # Evaluate the model using ROC value\n",
        "    roc_value = evaluator.evaluate(predictions)\n",
        "    print(f\"ROC Value (AUC) for model with params {params}: {roc_value}\")\n",
        "\n",
        "    # Check if this is the best model\n",
        "    if roc_value > best_roc_value:\n",
        "        best_roc_value = roc_value\n",
        "        best_model = model\n",
        "        best_params = params\n",
        "\n",
        "# Print the best hyperparameters\n",
        "print(\"Best Parameters:\")\n",
        "print(f\"Num Trees: {best_params['numTrees']}\")\n",
        "print(f\"Max Depth: {best_params['maxDepth']}\")\n",
        "print(f\"Min Info Gain: {best_params['minInfoGain']}\")\n",
        "print(f\"Best ROC Value (AUC): {best_roc_value}\")\n"
      ],
      "metadata": {
        "colab": {
          "base_uri": "https://localhost:8080/"
        },
        "id": "mrP_Q01UMuYx",
        "outputId": "853acacc-6426-4f8a-9ec7-693e1e585294"
      },
      "execution_count": null,
      "outputs": [
        {
          "output_type": "stream",
          "name": "stdout",
          "text": [
            "ROC Value (AUC) for model with params {'numTrees': 100, 'maxDepth': 15, 'minInfoGain': 0.0}: 0.9080911233307123\n",
            "ROC Value (AUC) for model with params {'numTrees': 50, 'maxDepth': 10, 'minInfoGain': 0.0}: 0.9049925809548728\n",
            "ROC Value (AUC) for model with params {'numTrees': 100, 'maxDepth': 5, 'minInfoGain': 0.0}: 0.8804660905996323\n",
            "ROC Value (AUC) for model with params {'numTrees': 50, 'maxDepth': 15, 'minInfoGain': 0.0}: 0.9104041197521121\n",
            "ROC Value (AUC) for model with params {'numTrees': 50, 'maxDepth': 5, 'minInfoGain': 0.0}: 0.8762765121759615\n",
            "ROC Value (AUC) for model with params {'numTrees': 150, 'maxDepth': 15, 'minInfoGain': 0.0}: 0.9069564458409676\n",
            "ROC Value (AUC) for model with params {'numTrees': 150, 'maxDepth': 10, 'minInfoGain': 0.0}: 0.9005847953216359\n",
            "ROC Value (AUC) for model with params {'numTrees': 100, 'maxDepth': 5, 'minInfoGain': 0.0}: 0.8804660905996323\n",
            "ROC Value (AUC) for model with params {'numTrees': 100, 'maxDepth': 15, 'minInfoGain': 0.0}: 0.9080911233307123\n",
            "ROC Value (AUC) for model with params {'numTrees': 50, 'maxDepth': 15, 'minInfoGain': 0.0}: 0.9104041197521121\n",
            "Best Parameters:\n",
            "Num Trees: 50\n",
            "Max Depth: 15\n",
            "Min Info Gain: 0.0\n",
            "Best ROC Value (AUC): 0.9104041197521121\n"
          ]
        }
      ]
    },
    {
      "cell_type": "code",
      "source": [
        "test_df"
      ],
      "metadata": {
        "colab": {
          "base_uri": "https://localhost:8080/"
        },
        "id": "hQUQfVxkwiyx",
        "outputId": "4604e263-b0f1-4d9c-f221-515f0807145c"
      },
      "execution_count": null,
      "outputs": [
        {
          "output_type": "execute_result",
          "data": {
            "text/plain": [
              "DataFrame[features: vector, label: double]"
            ]
          },
          "metadata": {},
          "execution_count": 36
        }
      ]
    },
    {
      "cell_type": "code",
      "source": [
        "import matplotlib.pyplot as plt\n",
        "from pyspark.ml.evaluation import MulticlassClassificationEvaluator, BinaryClassificationEvaluator\n",
        "\n",
        "# Evaluate train predictions using the best model from Random Search\n",
        "train_predictions = best_model.transform(train_df)\n",
        "train_accuracy_evaluator = MulticlassClassificationEvaluator(labelCol=\"label\", predictionCol=\"prediction\", metricName=\"accuracy\")\n",
        "train_accuracy = train_accuracy_evaluator.evaluate(train_predictions)\n",
        "\n",
        "# Evaluate test predictions using the best model from Random Search\n",
        "test_predictions = best_model.transform(test_df)\n",
        "test_accuracy = train_accuracy_evaluator.evaluate(test_predictions)\n",
        "\n",
        "# Evaluate train AUC using the best model\n",
        "train_roc_evaluator = BinaryClassificationEvaluator(labelCol=\"label\", rawPredictionCol=\"rawPrediction\", metricName=\"areaUnderROC\")\n",
        "train_roc_value = train_roc_evaluator.evaluate(train_predictions)\n",
        "\n",
        "# Evaluate test AUC using the best model\n",
        "test_roc_value = train_roc_evaluator.evaluate(test_predictions)\n",
        "\n",
        "# Prepare data for plotting\n",
        "labels = ['Train Accuracy', 'Test Accuracy', 'Train AUC', 'Test AUC']\n",
        "values = [train_accuracy, test_accuracy, train_roc_value, test_roc_value]\n",
        "\n",
        "# Plotting\n",
        "plt.figure(figsize=(10, 6))\n",
        "plt.bar(labels, values, color=['blue', 'orange', 'green', 'red'])\n",
        "plt.ylabel('Score')\n",
        "plt.title('Train/Test Accuracy and AUC Values')\n",
        "plt.ylim(0, 1)  # Set y-axis limit from 0 to 1\n",
        "plt.axhline(0.5, color='gray', linestyle='--', label='Random Guess (AUC = 0.5)')  # Add a line for random guess (AUC = 0.5)\n",
        "plt.grid(axis='y', linestyle='--', alpha=0.7)\n",
        "plt.legend()\n",
        "plt.show()\n"
      ],
      "metadata": {
        "colab": {
          "base_uri": "https://localhost:8080/"
        },
        "id": "Ex2cVP9qOAmp",
        "outputId": "54325e12-9776-4941-9122-c9665841107b"
      },
      "execution_count": null,
      "outputs": [
        {
          "output_type": "display_data",
          "data": {
            "text/plain": [
              "<Figure size 1000x600 with 1 Axes>"
            ],
            "image/png": "[encoded data removed]"
          },
          "metadata": {}
        }
      ]
    },
    {
      "cell_type": "markdown",
      "source": [
        "# **3. Real Time Machine Learning with Spark Streaming**"
      ],
      "metadata": {
        "id": "-5-0wr4lYAot"
      }
    },
    {
      "cell_type": "code",
      "source": [
        "import pandas as pd\n",
        "\n",
        "url = 'https://raw.githubusercontent.com/Satyam-G-Kulkarni/Financial_Forecasting_Frontier/refs/heads/main/bank.csv'\n",
        "\n",
        "# Read the data into a DataFrame\n",
        "bank_df = pd.read_csv(url)\n",
        "\n",
        "# Display the first few rows\n",
        "bank_df.head()\n"
      ],
      "metadata": {
        "colab": {
          "base_uri": "https://localhost:8080/"
        },
        "id": "Cg8sO1dmveAk",
        "outputId": "dbb3598a-b3e2-49e1-d34a-f6e8f61e5580"
      },
      "execution_count": null,
      "outputs": [
        {
          "output_type": "execute_result",
          "data": {
            "text/plain": [
              "   age          job  marital  education default  balance housing loan  \\\n",
              "0   30   unemployed  married    primary      no     1787      no   no   \n",
              "1   33     services  married  secondary      no     4789     yes  yes   \n",
              "2   35   management   single   tertiary      no     1350     yes   no   \n",
              "3   30   management  married   tertiary      no     1476     yes  yes   \n",
              "4   59  blue-collar  married  secondary      no        0     yes   no   \n",
              "\n",
              "    contact  day month  duration  campaign  pdays  previous poutcome   y  \n",
              "0  cellular   19   oct        79         1     -1         0  unknown  no  \n",
              "1  cellular   11   may       220         1    339         4  failure  no  \n",
              "2  cellular   16   apr       185         1    330         1  failure  no  \n",
              "3   unknown    3   jun       199         4     -1         0  unknown  no  \n",
              "4   unknown    5   may       226         1     -1         0  unknown  no  "
            ],
            "text/html": [
              "\n",
              "  <div id=\"df-d697d25e-9c38-4732-a86f-f8248f723aad\" class=\"colab-df-container\">\n",
              "    <div>\n",
              "<style scoped>\n",
              "    .dataframe tbody tr th:only-of-type {\n",
              "        vertical-align: middle;\n",
              "    }\n",
              "\n",
              "    .dataframe tbody tr th {\n",
              "        vertical-align: top;\n",
              "    }\n",
              "\n",
              "    .dataframe thead th {\n",
              "        text-align: right;\n",
              "    }\n",
              "</style>\n",
              "<table border=\"1\" class=\"dataframe\">\n",
              "  <thead>\n",
              "    <tr style=\"text-align: right;\">\n",
              "      <th></th>\n",
              "      <th>age</th>\n",
              "      <th>job</th>\n",
              "      <th>marital</th>\n",
              "      <th>education</th>\n",
              "      <th>default</th>\n",
              "      <th>balance</th>\n",
              "      <th>housing</th>\n",
              "      <th>loan</th>\n",
              "      <th>contact</th>\n",
              "      <th>day</th>\n",
              "      <th>month</th>\n",
              "      <th>duration</th>\n",
              "      <th>campaign</th>\n",
              "      <th>pdays</th>\n",
              "      <th>previous</th>\n",
              "      <th>poutcome</th>\n",
              "      <th>y</th>\n",
              "    </tr>\n",
              "  </thead>\n",
              "  <tbody>\n",
              "    <tr>\n",
              "      <th>0</th>\n",
              "      <td>30</td>\n",
              "      <td>unemployed</td>\n",
              "      <td>married</td>\n",
              "      <td>primary</td>\n",
              "      <td>no</td>\n",
              "      <td>1787</td>\n",
              "      <td>no</td>\n",
              "      <td>no</td>\n",
              "      <td>cellular</td>\n",
              "      <td>19</td>\n",
              "      <td>oct</td>\n",
              "      <td>79</td>\n",
              "      <td>1</td>\n",
              "      <td>-1</td>\n",
              "      <td>0</td>\n",
              "      <td>unknown</td>\n",
              "      <td>no</td>\n",
              "    </tr>\n",
              "    <tr>\n",
              "      <th>1</th>\n",
              "      <td>33</td>\n",
              "      <td>services</td>\n",
              "      <td>married</td>\n",
              "      <td>secondary</td>\n",
              "      <td>no</td>\n",
              "      <td>4789</td>\n",
              "      <td>yes</td>\n",
              "      <td>yes</td>\n",
              "      <td>cellular</td>\n",
              "      <td>11</td>\n",
              "      <td>may</td>\n",
              "      <td>220</td>\n",
              "      <td>1</td>\n",
              "      <td>339</td>\n",
              "      <td>4</td>\n",
              "      <td>failure</td>\n",
              "      <td>no</td>\n",
              "    </tr>\n",
              "    <tr>\n",
              "      <th>2</th>\n",
              "      <td>35</td>\n",
              "      <td>management</td>\n",
              "      <td>single</td>\n",
              "      <td>tertiary</td>\n",
              "      <td>no</td>\n",
              "      <td>1350</td>\n",
              "      <td>yes</td>\n",
              "      <td>no</td>\n",
              "      <td>cellular</td>\n",
              "      <td>16</td>\n",
              "      <td>apr</td>\n",
              "      <td>185</td>\n",
              "      <td>1</td>\n",
              "      <td>330</td>\n",
              "      <td>1</td>\n",
              "      <td>failure</td>\n",
              "      <td>no</td>\n",
              "    </tr>\n",
              "    <tr>\n",
              "      <th>3</th>\n",
              "      <td>30</td>\n",
              "      <td>management</td>\n",
              "      <td>married</td>\n",
              "      <td>tertiary</td>\n",
              "      <td>no</td>\n",
              "      <td>1476</td>\n",
              "      <td>yes</td>\n",
              "      <td>yes</td>\n",
              "      <td>unknown</td>\n",
              "      <td>3</td>\n",
              "      <td>jun</td>\n",
              "      <td>199</td>\n",
              "      <td>4</td>\n",
              "      <td>-1</td>\n",
              "      <td>0</td>\n",
              "      <td>unknown</td>\n",
              "      <td>no</td>\n",
              "    </tr>\n",
              "    <tr>\n",
              "      <th>4</th>\n",
              "      <td>59</td>\n",
              "      <td>blue-collar</td>\n",
              "      <td>married</td>\n",
              "      <td>secondary</td>\n",
              "      <td>no</td>\n",
              "      <td>0</td>\n",
              "      <td>yes</td>\n",
              "      <td>no</td>\n",
              "      <td>unknown</td>\n",
              "      <td>5</td>\n",
              "      <td>may</td>\n",
              "      <td>226</td>\n",
              "      <td>1</td>\n",
              "      <td>-1</td>\n",
              "      <td>0</td>\n",
              "      <td>unknown</td>\n",
              "      <td>no</td>\n",
              "    </tr>\n",
              "  </tbody>\n",
              "</table>\n",
              "</div>\n",
              "    <div class=\"colab-df-buttons\">\n",
              "\n",
              "  <div class=\"colab-df-container\">\n",
              "    <button class=\"colab-df-convert\" onclick=\"convertToInteractive('df-d697d25e-9c38-4732-a86f-f8248f723aad')\"\n",
              "            title=\"Convert this dataframe to an interactive table.\"\n",
              "            style=\"display:none;\">\n",
              "\n",
              "  <svg xmlns=\"http://www.w3.org/2000/svg\" height=\"24px\" viewBox=\"0 -960 960 960\">\n",
              "    <path d=\"M120-120v-720h720v720H120Zm60-500h600v-160H180v160Zm220 220h160v-160H400v160Zm0 220h160v-160H400v160ZM180-400h160v-160H180v160Zm440 0h160v-160H620v160ZM180-180h160v-160H180v160Zm440 0h160v-160H620v160Z\"/>\n",
              "  </svg>\n",
              "    </button>\n",
              "\n",
              "  <style>\n",
              "    .colab-df-container {\n",
              "      display:flex;\n",
              "      gap: 12px;\n",
              "    }\n",
              "\n",
              "    .colab-df-convert {\n",
              "      background-color: #E8F0FE;\n",
              "      border: none;\n",
              "      border-radius: 50%;\n",
              "      cursor: pointer;\n",
              "      display: none;\n",
              "      fill: #1967D2;\n",
              "      height: 32px;\n",
              "      padding: 0 0 0 0;\n",
              "      width: 32px;\n",
              "    }\n",
              "\n",
              "    .colab-df-convert:hover {\n",
              "      background-color: #E2EBFA;\n",
              "      box-shadow: 0px 1px 2px rgba(60, 64, 67, 0.3), 0px 1px 3px 1px rgba(60, 64, 67, 0.15);\n",
              "      fill: #174EA6;\n",
              "    }\n",
              "\n",
              "    .colab-df-buttons div {\n",
              "      margin-bottom: 4px;\n",
              "    }\n",
              "\n",
              "    [theme=dark] .colab-df-convert {\n",
              "      background-color: #3B4455;\n",
              "      fill: #D2E3FC;\n",
              "    }\n",
              "\n",
              "    [theme=dark] .colab-df-convert:hover {\n",
              "      background-color: #434B5C;\n",
              "      box-shadow: 0px 1px 3px 1px rgba(0, 0, 0, 0.15);\n",
              "      filter: drop-shadow(0px 1px 2px rgba(0, 0, 0, 0.3));\n",
              "      fill: #FFFFFF;\n",
              "    }\n",
              "  </style>\n",
              "\n",
              "    <script>\n",
              "      const buttonEl =\n",
              "        document.querySelector('#df-d697d25e-9c38-4732-a86f-f8248f723aad button.colab-df-convert');\n",
              "      buttonEl.style.display =\n",
              "        google.colab.kernel.accessAllowed ? 'block' : 'none';\n",
              "\n",
              "      async function convertToInteractive(key) {\n",
              "        const element = document.querySelector('#df-d697d25e-9c38-4732-a86f-f8248f723aad');\n",
              "        const dataTable =\n",
              "          await google.colab.kernel.invokeFunction('convertToInteractive',\n",
              "                                                    [key], {});\n",
              "        if (!dataTable) return;\n",
              "\n",
              "        const docLinkHtml = 'Like what you see? Visit the ' +\n",
              "          '<a target=\"_blank\" href=https://colab.research.google.com/notebooks/data_table.ipynb>data table notebook</a>'\n",
              "          + ' to learn more about interactive tables.';\n",
              "        element.innerHTML = '';\n",
              "        dataTable['output_type'] = 'display_data';\n",
              "        await google.colab.output.renderOutput(dataTable, element);\n",
              "        const docLink = document.createElement('div');\n",
              "        docLink.innerHTML = docLinkHtml;\n",
              "        element.appendChild(docLink);\n",
              "      }\n",
              "    </script>\n",
              "  </div>\n",
              "\n",
              "\n",
              "<div id=\"df-8b5b685c-754c-40f5-be6d-13a0ca3f1fee\">\n",
              "  <button class=\"colab-df-quickchart\" onclick=\"quickchart('df-8b5b685c-754c-40f5-be6d-13a0ca3f1fee')\"\n",
              "            title=\"Suggest charts\"\n",
              "            style=\"display:none;\">\n",
              "\n",
              "<svg xmlns=\"http://www.w3.org/2000/svg\" height=\"24px\"viewBox=\"0 0 24 24\"\n",
              "     width=\"24px\">\n",
              "    <g>\n",
              "        <path d=\"M19 3H5c-1.1 0-2 .9-2 2v14c0 1.1.9 2 2 2h14c1.1 0 2-.9 2-2V5c0-1.1-.9-2-2-2zM9 17H7v-7h2v7zm4 0h-2V7h2v10zm4 0h-2v-4h2v4z\"/>\n",
              "    </g>\n",
              "</svg>\n",
              "  </button>\n",
              "\n",
              "<style>\n",
              "  .colab-df-quickchart {\n",
              "      --bg-color: #E8F0FE;\n",
              "      --fill-color: #1967D2;\n",
              "      --hover-bg-color: #E2EBFA;\n",
              "      --hover-fill-color: #174EA6;\n",
              "      --disabled-fill-color: #AAA;\n",
              "      --disabled-bg-color: #DDD;\n",
              "  }\n",
              "\n",
              "  [theme=dark] .colab-df-quickchart {\n",
              "      --bg-color: #3B4455;\n",
              "      --fill-color: #D2E3FC;\n",
              "      --hover-bg-color: #434B5C;\n",
              "      --hover-fill-color: #FFFFFF;\n",
              "      --disabled-bg-color: #3B4455;\n",
              "      --disabled-fill-color: #666;\n",
              "  }\n",
              "\n",
              "  .colab-df-quickchart {\n",
              "    background-color: var(--bg-color);\n",
              "    border: none;\n",
              "    border-radius: 50%;\n",
              "    cursor: pointer;\n",
              "    display: none;\n",
              "    fill: var(--fill-color);\n",
              "    height: 32px;\n",
              "    padding: 0;\n",
              "    width: 32px;\n",
              "  }\n",
              "\n",
              "  .colab-df-quickchart:hover {\n",
              "    background-color: var(--hover-bg-color);\n",
              "    box-shadow: 0 1px 2px rgba(60, 64, 67, 0.3), 0 1px 3px 1px rgba(60, 64, 67, 0.15);\n",
              "    fill: var(--button-hover-fill-color);\n",
              "  }\n",
              "\n",
              "  .colab-df-quickchart-complete:disabled,\n",
              "  .colab-df-quickchart-complete:disabled:hover {\n",
              "    background-color: var(--disabled-bg-color);\n",
              "    fill: var(--disabled-fill-color);\n",
              "    box-shadow: none;\n",
              "  }\n",
              "\n",
              "  .colab-df-spinner {\n",
              "    border: 2px solid var(--fill-color);\n",
              "    border-color: transparent;\n",
              "    border-bottom-color: var(--fill-color);\n",
              "    animation:\n",
              "      spin 1s steps(1) infinite;\n",
              "  }\n",
              "\n",
              "  @keyframes spin {\n",
              "    0% {\n",
              "      border-color: transparent;\n",
              "      border-bottom-color: var(--fill-color);\n",
              "      border-left-color: var(--fill-color);\n",
              "    }\n",
              "    20% {\n",
              "      border-color: transparent;\n",
              "      border-left-color: var(--fill-color);\n",
              "      border-top-color: var(--fill-color);\n",
              "    }\n",
              "    30% {\n",
              "      border-color: transparent;\n",
              "      border-left-color: var(--fill-color);\n",
              "      border-top-color: var(--fill-color);\n",
              "      border-right-color: var(--fill-color);\n",
              "    }\n",
              "    40% {\n",
              "      border-color: transparent;\n",
              "      border-right-color: var(--fill-color);\n",
              "      border-top-color: var(--fill-color);\n",
              "    }\n",
              "    60% {\n",
              "      border-color: transparent;\n",
              "      border-right-color: var(--fill-color);\n",
              "    }\n",
              "    80% {\n",
              "      border-color: transparent;\n",
              "      border-right-color: var(--fill-color);\n",
              "      border-bottom-color: var(--fill-color);\n",
              "    }\n",
              "    90% {\n",
              "      border-color: transparent;\n",
              "      border-bottom-color: var(--fill-color);\n",
              "    }\n",
              "  }\n",
              "</style>\n",
              "\n",
              "  <script>\n",
              "    async function quickchart(key) {\n",
              "      const quickchartButtonEl =\n",
              "        document.querySelector('#' + key + ' button');\n",
              "      quickchartButtonEl.disabled = true;  // To prevent multiple clicks.\n",
              "      quickchartButtonEl.classList.add('colab-df-spinner');\n",
              "      try {\n",
              "        const charts = await google.colab.kernel.invokeFunction(\n",
              "            'suggestCharts', [key], {});\n",
              "      } catch (error) {\n",
              "        console.error('Error during call to suggestCharts:', error);\n",
              "      }\n",
              "      quickchartButtonEl.classList.remove('colab-df-spinner');\n",
              "      quickchartButtonEl.classList.add('colab-df-quickchart-complete');\n",
              "    }\n",
              "    (() => {\n",
              "      let quickchartButtonEl =\n",
              "        document.querySelector('#df-8b5b685c-754c-40f5-be6d-13a0ca3f1fee button');\n",
              "      quickchartButtonEl.style.display =\n",
              "        google.colab.kernel.accessAllowed ? 'block' : 'none';\n",
              "    })();\n",
              "  </script>\n",
              "</div>\n",
              "\n",
              "    </div>\n",
              "  </div>\n"
            ],
            "application/vnd.google.colaboratory.intrinsic+json": {
              "type": "dataframe",
              "variable_name": "bank_df",
              "summary": "{\n  \"name\": \"bank_df\",\n  \"rows\": 4521,\n  \"fields\": [\n    {\n      \"column\": \"age\",\n      \"properties\": {\n        \"dtype\": \"number\",\n        \"std\": 10,\n        \"min\": 19,\n        \"max\": 87,\n        \"num_unique_values\": 67,\n        \"samples\": [\n          50,\n          44,\n          36\n        ],\n        \"semantic_type\": \"\",\n        \"description\": \"\"\n      }\n    },\n    {\n      \"column\": \"job\",\n      \"properties\": {\n        \"dtype\": \"category\",\n        \"num_unique_values\": 12,\n        \"samples\": [\n          \"retired\",\n          \"housemaid\",\n          \"unemployed\"\n        ],\n        \"semantic_type\": \"\",\n        \"description\": \"\"\n      }\n    },\n    {\n      \"column\": \"marital\",\n      \"properties\": {\n        \"dtype\": \"category\",\n        \"num_unique_values\": 3,\n        \"samples\": [\n          \"married\",\n          \"single\",\n          \"divorced\"\n        ],\n        \"semantic_type\": \"\",\n        \"description\": \"\"\n      }\n    },\n    {\n      \"column\": \"education\",\n      \"properties\": {\n        \"dtype\": \"category\",\n        \"num_unique_values\": 4,\n        \"samples\": [\n          \"secondary\",\n          \"unknown\",\n          \"primary\"\n        ],\n        \"semantic_type\": \"\",\n        \"description\": \"\"\n      }\n    },\n    {\n      \"column\": \"default\",\n      \"properties\": {\n        \"dtype\": \"category\",\n        \"num_unique_values\": 2,\n        \"samples\": [\n          \"yes\",\n          \"no\"\n        ],\n        \"semantic_type\": \"\",\n        \"description\": \"\"\n      }\n    },\n    {\n      \"column\": \"balance\",\n      \"properties\": {\n        \"dtype\": \"number\",\n        \"std\": 3009,\n        \"min\": -3313,\n        \"max\": 71188,\n        \"num_unique_values\": 2353,\n        \"samples\": [\n          1988,\n          7010\n        ],\n        \"semantic_type\": \"\",\n        \"description\": \"\"\n      }\n    },\n    {\n      \"column\": \"housing\",\n      \"properties\": {\n        \"dtype\": \"category\",\n        \"num_unique_values\": 2,\n        \"samples\": [\n          \"yes\",\n          \"no\"\n        ],\n        \"semantic_type\": \"\",\n        \"description\": \"\"\n      }\n    },\n    {\n      \"column\": \"loan\",\n      \"properties\": {\n        \"dtype\": \"category\",\n        \"num_unique_values\": 2,\n        \"samples\": [\n          \"yes\",\n          \"no\"\n        ],\n        \"semantic_type\": \"\",\n        \"description\": \"\"\n      }\n    },\n    {\n      \"column\": \"contact\",\n      \"properties\": {\n        \"dtype\": \"category\",\n        \"num_unique_values\": 3,\n        \"samples\": [\n          \"cellular\",\n          \"unknown\"\n        ],\n        \"semantic_type\": \"\",\n        \"description\": \"\"\n      }\n    },\n    {\n      \"column\": \"day\",\n      \"properties\": {\n        \"dtype\": \"number\",\n        \"std\": 8,\n        \"min\": 1,\n        \"max\": 31,\n        \"num_unique_values\": 31,\n        \"samples\": [\n          10,\n          18\n        ],\n        \"semantic_type\": \"\",\n        \"description\": \"\"\n      }\n    },\n    {\n      \"column\": \"month\",\n      \"properties\": {\n        \"dtype\": \"category\",\n        \"num_unique_values\": 12,\n        \"samples\": [\n          \"mar\",\n          \"sep\"\n        ],\n        \"semantic_type\": \"\",\n        \"description\": \"\"\n      }\n    },\n    {\n      \"column\": \"duration\",\n      \"properties\": {\n        \"dtype\": \"number\",\n        \"std\": 259,\n        \"min\": 4,\n        \"max\": 3025,\n        \"num_unique_values\": 875,\n        \"samples\": [\n          1516,\n          722\n        ],\n        \"semantic_type\": \"\",\n        \"description\": \"\"\n      }\n    },\n    {\n      \"column\": \"campaign\",\n      \"properties\": {\n        \"dtype\": \"number\",\n        \"std\": 3,\n        \"min\": 1,\n        \"max\": 50,\n        \"num_unique_values\": 32,\n        \"samples\": [\n          28,\n          8\n        ],\n        \"semantic_type\": \"\",\n        \"description\": \"\"\n      }\n    },\n    {\n      \"column\": \"pdays\",\n      \"properties\": {\n        \"dtype\": \"number\",\n        \"std\": 100,\n        \"min\": -1,\n        \"max\": 871,\n        \"num_unique_values\": 292,\n        \"samples\": [\n          63,\n          385\n        ],\n        \"semantic_type\": \"\",\n        \"description\": \"\"\n      }\n    },\n    {\n      \"column\": \"previous\",\n      \"properties\": {\n        \"dtype\": \"number\",\n        \"std\": 1,\n        \"min\": 0,\n        \"max\": 25,\n        \"num_unique_values\": 24,\n        \"samples\": [\n          6,\n          11\n        ],\n        \"semantic_type\": \"\",\n        \"description\": \"\"\n      }\n    },\n    {\n      \"column\": \"poutcome\",\n      \"properties\": {\n        \"dtype\": \"category\",\n        \"num_unique_values\": 4,\n        \"samples\": [\n          \"failure\",\n          \"success\"\n        ],\n        \"semantic_type\": \"\",\n        \"description\": \"\"\n      }\n    },\n    {\n      \"column\": \"y\",\n      \"properties\": {\n        \"dtype\": \"category\",\n        \"num_unique_values\": 2,\n        \"samples\": [\n          \"yes\",\n          \"no\"\n        ],\n        \"semantic_type\": \"\",\n        \"description\": \"\"\n      }\n    }\n  ]\n}"
            }
          },
          "metadata": {},
          "execution_count": 38
        }
      ]
    },
    {
      "cell_type": "code",
      "source": [
        "bank_df.shape"
      ],
      "metadata": {
        "colab": {
          "base_uri": "https://localhost:8080/"
        },
        "id": "c8TGDFurwaTa",
        "outputId": "53f2b1ec-e2af-41fb-ef51-f47bdf962088"
      },
      "execution_count": null,
      "outputs": [
        {
          "output_type": "execute_result",
          "data": {
            "text/plain": [
              "(4521, 17)"
            ]
          },
          "metadata": {},
          "execution_count": 39
        }
      ]
    },
    {
      "cell_type": "code",
      "source": [
        "# Dropping the duplicate irrelavent column after merging\n",
        "df = bank_df.drop(columns=['marital','education','default','housing','loan','contact','day','month','campaign','pdays','previous','poutcome'])\n",
        "\n",
        "# Print the merged dataframe\n",
        "df.head()"
      ],
      "metadata": {
        "colab": {
          "base_uri": "https://localhost:8080/"
        },
        "id": "OPyXR9afwe51",
        "outputId": "91b83b12-c953-4329-f1eb-764c2a53b4d8"
      },
      "execution_count": null,
      "outputs": [
        {
          "output_type": "execute_result",
          "data": {
            "text/plain": [
              "   age          job  balance  duration   y\n",
              "0   30   unemployed     1787        79  no\n",
              "1   33     services     4789       220  no\n",
              "2   35   management     1350       185  no\n",
              "3   30   management     1476       199  no\n",
              "4   59  blue-collar        0       226  no"
            ],
            "text/html": [
              "\n",
              "  <div id=\"df-6d650262-a8eb-4dd3-a981-6b0211400343\" class=\"colab-df-container\">\n",
              "    <div>\n",
              "<style scoped>\n",
              "    .dataframe tbody tr th:only-of-type {\n",
              "        vertical-align: middle;\n",
              "    }\n",
              "\n",
              "    .dataframe tbody tr th {\n",
              "        vertical-align: top;\n",
              "    }\n",
              "\n",
              "    .dataframe thead th {\n",
              "        text-align: right;\n",
              "    }\n",
              "</style>\n",
              "<table border=\"1\" class=\"dataframe\">\n",
              "  <thead>\n",
              "    <tr style=\"text-align: right;\">\n",
              "      <th></th>\n",
              "      <th>age</th>\n",
              "      <th>job</th>\n",
              "      <th>balance</th>\n",
              "      <th>duration</th>\n",
              "      <th>y</th>\n",
              "    </tr>\n",
              "  </thead>\n",
              "  <tbody>\n",
              "    <tr>\n",
              "      <th>0</th>\n",
              "      <td>30</td>\n",
              "      <td>unemployed</td>\n",
              "      <td>1787</td>\n",
              "      <td>79</td>\n",
              "      <td>no</td>\n",
              "    </tr>\n",
              "    <tr>\n",
              "      <th>1</th>\n",
              "      <td>33</td>\n",
              "      <td>services</td>\n",
              "      <td>4789</td>\n",
              "      <td>220</td>\n",
              "      <td>no</td>\n",
              "    </tr>\n",
              "    <tr>\n",
              "      <th>2</th>\n",
              "      <td>35</td>\n",
              "      <td>management</td>\n",
              "      <td>1350</td>\n",
              "      <td>185</td>\n",
              "      <td>no</td>\n",
              "    </tr>\n",
              "    <tr>\n",
              "      <th>3</th>\n",
              "      <td>30</td>\n",
              "      <td>management</td>\n",
              "      <td>1476</td>\n",
              "      <td>199</td>\n",
              "      <td>no</td>\n",
              "    </tr>\n",
              "    <tr>\n",
              "      <th>4</th>\n",
              "      <td>59</td>\n",
              "      <td>blue-collar</td>\n",
              "      <td>0</td>\n",
              "      <td>226</td>\n",
              "      <td>no</td>\n",
              "    </tr>\n",
              "  </tbody>\n",
              "</table>\n",
              "</div>\n",
              "    <div class=\"colab-df-buttons\">\n",
              "\n",
              "  <div class=\"colab-df-container\">\n",
              "    <button class=\"colab-df-convert\" onclick=\"convertToInteractive('df-6d650262-a8eb-4dd3-a981-6b0211400343')\"\n",
              "            title=\"Convert this dataframe to an interactive table.\"\n",
              "            style=\"display:none;\">\n",
              "\n",
              "  <svg xmlns=\"http://www.w3.org/2000/svg\" height=\"24px\" viewBox=\"0 -960 960 960\">\n",
              "    <path d=\"M120-120v-720h720v720H120Zm60-500h600v-160H180v160Zm220 220h160v-160H400v160Zm0 220h160v-160H400v160ZM180-400h160v-160H180v160Zm440 0h160v-160H620v160ZM180-180h160v-160H180v160Zm440 0h160v-160H620v160Z\"/>\n",
              "  </svg>\n",
              "    </button>\n",
              "\n",
              "  <style>\n",
              "    .colab-df-container {\n",
              "      display:flex;\n",
              "      gap: 12px;\n",
              "    }\n",
              "\n",
              "    .colab-df-convert {\n",
              "      background-color: #E8F0FE;\n",
              "      border: none;\n",
              "      border-radius: 50%;\n",
              "      cursor: pointer;\n",
              "      display: none;\n",
              "      fill: #1967D2;\n",
              "      height: 32px;\n",
              "      padding: 0 0 0 0;\n",
              "      width: 32px;\n",
              "    }\n",
              "\n",
              "    .colab-df-convert:hover {\n",
              "      background-color: #E2EBFA;\n",
              "      box-shadow: 0px 1px 2px rgba(60, 64, 67, 0.3), 0px 1px 3px 1px rgba(60, 64, 67, 0.15);\n",
              "      fill: #174EA6;\n",
              "    }\n",
              "\n",
              "    .colab-df-buttons div {\n",
              "      margin-bottom: 4px;\n",
              "    }\n",
              "\n",
              "    [theme=dark] .colab-df-convert {\n",
              "      background-color: #3B4455;\n",
              "      fill: #D2E3FC;\n",
              "    }\n",
              "\n",
              "    [theme=dark] .colab-df-convert:hover {\n",
              "      background-color: #434B5C;\n",
              "      box-shadow: 0px 1px 3px 1px rgba(0, 0, 0, 0.15);\n",
              "      filter: drop-shadow(0px 1px 2px rgba(0, 0, 0, 0.3));\n",
              "      fill: #FFFFFF;\n",
              "    }\n",
              "  </style>\n",
              "\n",
              "    <script>\n",
              "      const buttonEl =\n",
              "        document.querySelector('#df-6d650262-a8eb-4dd3-a981-6b0211400343 button.colab-df-convert');\n",
              "      buttonEl.style.display =\n",
              "        google.colab.kernel.accessAllowed ? 'block' : 'none';\n",
              "\n",
              "      async function convertToInteractive(key) {\n",
              "        const element = document.querySelector('#df-6d650262-a8eb-4dd3-a981-6b0211400343');\n",
              "        const dataTable =\n",
              "          await google.colab.kernel.invokeFunction('convertToInteractive',\n",
              "                                                    [key], {});\n",
              "        if (!dataTable) return;\n",
              "\n",
              "        const docLinkHtml = 'Like what you see? Visit the ' +\n",
              "          '<a target=\"_blank\" href=https://colab.research.google.com/notebooks/data_table.ipynb>data table notebook</a>'\n",
              "          + ' to learn more about interactive tables.';\n",
              "        element.innerHTML = '';\n",
              "        dataTable['output_type'] = 'display_data';\n",
              "        await google.colab.output.renderOutput(dataTable, element);\n",
              "        const docLink = document.createElement('div');\n",
              "        docLink.innerHTML = docLinkHtml;\n",
              "        element.appendChild(docLink);\n",
              "      }\n",
              "    </script>\n",
              "  </div>\n",
              "\n",
              "\n",
              "<div id=\"df-7ce05083-f1ba-4a98-97b9-3ccc4fdffe0d\">\n",
              "  <button class=\"colab-df-quickchart\" onclick=\"quickchart('df-7ce05083-f1ba-4a98-97b9-3ccc4fdffe0d')\"\n",
              "            title=\"Suggest charts\"\n",
              "            style=\"display:none;\">\n",
              "\n",
              "<svg xmlns=\"http://www.w3.org/2000/svg\" height=\"24px\"viewBox=\"0 0 24 24\"\n",
              "     width=\"24px\">\n",
              "    <g>\n",
              "        <path d=\"M19 3H5c-1.1 0-2 .9-2 2v14c0 1.1.9 2 2 2h14c1.1 0 2-.9 2-2V5c0-1.1-.9-2-2-2zM9 17H7v-7h2v7zm4 0h-2V7h2v10zm4 0h-2v-4h2v4z\"/>\n",
              "    </g>\n",
              "</svg>\n",
              "  </button>\n",
              "\n",
              "<style>\n",
              "  .colab-df-quickchart {\n",
              "      --bg-color: #E8F0FE;\n",
              "      --fill-color: #1967D2;\n",
              "      --hover-bg-color: #E2EBFA;\n",
              "      --hover-fill-color: #174EA6;\n",
              "      --disabled-fill-color: #AAA;\n",
              "      --disabled-bg-color: #DDD;\n",
              "  }\n",
              "\n",
              "  [theme=dark] .colab-df-quickchart {\n",
              "      --bg-color: #3B4455;\n",
              "      --fill-color: #D2E3FC;\n",
              "      --hover-bg-color: #434B5C;\n",
              "      --hover-fill-color: #FFFFFF;\n",
              "      --disabled-bg-color: #3B4455;\n",
              "      --disabled-fill-color: #666;\n",
              "  }\n",
              "\n",
              "  .colab-df-quickchart {\n",
              "    background-color: var(--bg-color);\n",
              "    border: none;\n",
              "    border-radius: 50%;\n",
              "    cursor: pointer;\n",
              "    display: none;\n",
              "    fill: var(--fill-color);\n",
              "    height: 32px;\n",
              "    padding: 0;\n",
              "    width: 32px;\n",
              "  }\n",
              "\n",
              "  .colab-df-quickchart:hover {\n",
              "    background-color: var(--hover-bg-color);\n",
              "    box-shadow: 0 1px 2px rgba(60, 64, 67, 0.3), 0 1px 3px 1px rgba(60, 64, 67, 0.15);\n",
              "    fill: var(--button-hover-fill-color);\n",
              "  }\n",
              "\n",
              "  .colab-df-quickchart-complete:disabled,\n",
              "  .colab-df-quickchart-complete:disabled:hover {\n",
              "    background-color: var(--disabled-bg-color);\n",
              "    fill: var(--disabled-fill-color);\n",
              "    box-shadow: none;\n",
              "  }\n",
              "\n",
              "  .colab-df-spinner {\n",
              "    border: 2px solid var(--fill-color);\n",
              "    border-color: transparent;\n",
              "    border-bottom-color: var(--fill-color);\n",
              "    animation:\n",
              "      spin 1s steps(1) infinite;\n",
              "  }\n",
              "\n",
              "  @keyframes spin {\n",
              "    0% {\n",
              "      border-color: transparent;\n",
              "      border-bottom-color: var(--fill-color);\n",
              "      border-left-color: var(--fill-color);\n",
              "    }\n",
              "    20% {\n",
              "      border-color: transparent;\n",
              "      border-left-color: var(--fill-color);\n",
              "      border-top-color: var(--fill-color);\n",
              "    }\n",
              "    30% {\n",
              "      border-color: transparent;\n",
              "      border-left-color: var(--fill-color);\n",
              "      border-top-color: var(--fill-color);\n",
              "      border-right-color: var(--fill-color);\n",
              "    }\n",
              "    40% {\n",
              "      border-color: transparent;\n",
              "      border-right-color: var(--fill-color);\n",
              "      border-top-color: var(--fill-color);\n",
              "    }\n",
              "    60% {\n",
              "      border-color: transparent;\n",
              "      border-right-color: var(--fill-color);\n",
              "    }\n",
              "    80% {\n",
              "      border-color: transparent;\n",
              "      border-right-color: var(--fill-color);\n",
              "      border-bottom-color: var(--fill-color);\n",
              "    }\n",
              "    90% {\n",
              "      border-color: transparent;\n",
              "      border-bottom-color: var(--fill-color);\n",
              "    }\n",
              "  }\n",
              "</style>\n",
              "\n",
              "  <script>\n",
              "    async function quickchart(key) {\n",
              "      const quickchartButtonEl =\n",
              "        document.querySelector('#' + key + ' button');\n",
              "      quickchartButtonEl.disabled = true;  // To prevent multiple clicks.\n",
              "      quickchartButtonEl.classList.add('colab-df-spinner');\n",
              "      try {\n",
              "        const charts = await google.colab.kernel.invokeFunction(\n",
              "            'suggestCharts', [key], {});\n",
              "      } catch (error) {\n",
              "        console.error('Error during call to suggestCharts:', error);\n",
              "      }\n",
              "      quickchartButtonEl.classList.remove('colab-df-spinner');\n",
              "      quickchartButtonEl.classList.add('colab-df-quickchart-complete');\n",
              "    }\n",
              "    (() => {\n",
              "      let quickchartButtonEl =\n",
              "        document.querySelector('#df-7ce05083-f1ba-4a98-97b9-3ccc4fdffe0d button');\n",
              "      quickchartButtonEl.style.display =\n",
              "        google.colab.kernel.accessAllowed ? 'block' : 'none';\n",
              "    })();\n",
              "  </script>\n",
              "</div>\n",
              "\n",
              "    </div>\n",
              "  </div>\n"
            ],
            "application/vnd.google.colaboratory.intrinsic+json": {
              "type": "dataframe",
              "variable_name": "df",
              "summary": "{\n  \"name\": \"df\",\n  \"rows\": 4521,\n  \"fields\": [\n    {\n      \"column\": \"age\",\n      \"properties\": {\n        \"dtype\": \"number\",\n        \"std\": 10,\n        \"min\": 19,\n        \"max\": 87,\n        \"num_unique_values\": 67,\n        \"samples\": [\n          50,\n          44,\n          36\n        ],\n        \"semantic_type\": \"\",\n        \"description\": \"\"\n      }\n    },\n    {\n      \"column\": \"job\",\n      \"properties\": {\n        \"dtype\": \"category\",\n        \"num_unique_values\": 12,\n        \"samples\": [\n          \"retired\",\n          \"housemaid\",\n          \"unemployed\"\n        ],\n        \"semantic_type\": \"\",\n        \"description\": \"\"\n      }\n    },\n    {\n      \"column\": \"balance\",\n      \"properties\": {\n        \"dtype\": \"number\",\n        \"std\": 3009,\n        \"min\": -3313,\n        \"max\": 71188,\n        \"num_unique_values\": 2353,\n        \"samples\": [\n          1988,\n          7010,\n          1562\n        ],\n        \"semantic_type\": \"\",\n        \"description\": \"\"\n      }\n    },\n    {\n      \"column\": \"duration\",\n      \"properties\": {\n        \"dtype\": \"number\",\n        \"std\": 259,\n        \"min\": 4,\n        \"max\": 3025,\n        \"num_unique_values\": 875,\n        \"samples\": [\n          1516,\n          722,\n          447\n        ],\n        \"semantic_type\": \"\",\n        \"description\": \"\"\n      }\n    },\n    {\n      \"column\": \"y\",\n      \"properties\": {\n        \"dtype\": \"category\",\n        \"num_unique_values\": 2,\n        \"samples\": [\n          \"yes\",\n          \"no\"\n        ],\n        \"semantic_type\": \"\",\n        \"description\": \"\"\n      }\n    }\n  ]\n}"
            }
          },
          "metadata": {},
          "execution_count": 40
        }
      ]
    },
    {
      "cell_type": "markdown",
      "source": [
        "### **Stream Processing and Data Aggregation**"
      ],
      "metadata": {
        "id": "x2QKYmAqYG10"
      }
    },
    {
      "cell_type": "markdown",
      "source": [
        "Implement a Spark Streaming application that reads a stream of data simulating real-time bank transactions. The stream should include columns such as 'age', 'job', 'balance', 'duration', and 'y' (target variable). You can create this stream by breaking the \"bank.csv\" dataset into smaller chunks and sending them as a simulated stream.\n",
        "\n",
        "Use Spark Streaming to calculate the average account balance and transaction duration, aggregating the data by job category in real-time. Display the aggregated results as they are updated."
      ],
      "metadata": {
        "id": "6gB0lfH3wmHU"
      }
    },
    {
      "cell_type": "code",
      "source": [
        "# Import necessary libraries\n",
        "from pyspark.sql import SparkSession\n",
        "from pyspark.sql.functions import avg, max, min, count, when\n",
        "\n",
        "# Create a SparkSession\n",
        "spark = SparkSession.builder.appName(\"AggregateDataInsights\").getOrCreate()\n",
        "\n",
        "# Load your PySpark DataFrame (replace 'your_data' with your actual DataFrame)\n",
        "spark_df = spark.createDataFrame(df)\n",
        "\n",
        "# Group by a specific column (e.g., sentiment) and perform aggregation\n",
        "grouped_data = spark_df.groupBy(\"job\")\n",
        "\n",
        "# Calculate average sentiment\n",
        "average_balance = grouped_data.agg(avg(\"balance\").alias(\"avg_balance\"))\n",
        "\n",
        "# Calculate the maximum sentiment value\n",
        "avg_duration = grouped_data.agg(max(\"duration\").alias(\"avg_duration\"))\n",
        "\n",
        "\n",
        "\n",
        "# Show the results\n",
        "average_balance.show()\n",
        "avg_duration.show()\n",
        "\n",
        "\n",
        "# Stop the SparkSession\n",
        "spark.stop()"
      ],
      "metadata": {
        "colab": {
          "base_uri": "https://localhost:8080/"
        },
        "id": "R6YD9b7quy2x",
        "outputId": "5e4f9251-6caf-4ad1-a8f1-8e00970b770d"
      },
      "execution_count": null,
      "outputs": [
        {
          "output_type": "stream",
          "name": "stdout",
          "text": [
            "+-------------+------------------+\n",
            "|          job|       avg_balance|\n",
            "+-------------+------------------+\n",
            "|   management|1766.9287925696594|\n",
            "|      retired| 2319.191304347826|\n",
            "|      unknown|1501.7105263157894|\n",
            "|self-employed|1392.4098360655737|\n",
            "|      student|1543.8214285714287|\n",
            "|  blue-collar| 1085.161733615222|\n",
            "| entrepreneur|          1645.125|\n",
            "|       admin.|  1226.73640167364|\n",
            "|   technician|     1330.99609375|\n",
            "|     services|1103.9568345323742|\n",
            "|    housemaid|2083.8035714285716|\n",
            "|   unemployed|       1089.421875|\n",
            "+-------------+------------------+\n",
            "\n",
            "+-------------+------------+\n",
            "|          job|avg_duration|\n",
            "+-------------+------------+\n",
            "|   management|        2087|\n",
            "|      retired|        1386|\n",
            "|      unknown|         789|\n",
            "|self-employed|        1877|\n",
            "|      student|        1124|\n",
            "|  blue-collar|        2456|\n",
            "| entrepreneur|        2769|\n",
            "|       admin.|        1713|\n",
            "|   technician|        2029|\n",
            "|     services|        1971|\n",
            "|    housemaid|        1558|\n",
            "|   unemployed|        3025|\n",
            "+-------------+------------+\n",
            "\n"
          ]
        }
      ]
    },
    {
      "cell_type": "markdown",
      "source": [
        "### **Real-Time Model Predictions**"
      ],
      "metadata": {
        "id": "PgTLAT1xlZzv"
      }
    },
    {
      "cell_type": "markdown",
      "source": [
        "To integrate a real-time machine learning model into a Spark Streaming application, we'll follow these steps:\n",
        "\n",
        "**Train a Classification Model:** Use the historical bank.csv dataset to train a classification model.\n",
        "\n",
        "**Save the Trained Model:** Save the trained model so it can be loaded in the streaming application.\n",
        "\n",
        "**Stream Processing and Model Predictions:** Develop the Spark Streaming application to read incoming data, load the trained model, and make real-time predictions."
      ],
      "metadata": {
        "id": "X7FblQVXw9FN"
      }
    },
    {
      "cell_type": "code",
      "source": [
        "# Create a Spark session\n",
        "spark = SparkSession.builder \\\n",
        "    .appName(\"BankTermDepositPrediction\") \\\n",
        "    .config(\"spark.sql.shuffle.partitions\", \"4\") \\\n",
        "    .config(\"spark.executor.memory\", \"2g\") \\\n",
        "    .config(\"spark.driver.memory\", \"2g\") \\\n",
        "    .getOrCreate()\n",
        "\n",
        "# Load the dataset\n",
        "!wget https://raw.githubusercontent.com/Satyam-G-Kulkarni/Financial_Forecasting_Frontier/refs/heads/main/bank.csv -O bank.csv\n",
        "\n",
        "data = spark.read.csv(\"bank.csv\", header=True, inferSchema=True)"
      ],
      "metadata": {
        "colab": {
          "base_uri": "https://localhost:8080/"
        },
        "id": "3kZErSTIRjEy",
        "outputId": "feaaaa2f-c4cf-460b-b182-f88f4ee3beec"
      },
      "execution_count": null,
      "outputs": [
        {
          "output_type": "stream",
          "name": "stdout",
          "text": [
            "--2024-10-07 14:28:01--  https://raw.githubusercontent.com/Satyam-G-Kulkarni/Financial_Forecasting_Frontier/refs/heads/main/bank.csv\n",
            "Resolving raw.githubusercontent.com (raw.githubusercontent.com)... 185.199.108.133, 185.199.109.133, 185.199.111.133, ...\n",
            "Connecting to raw.githubusercontent.com (raw.githubusercontent.com)|185.199.108.133|:443... connected.\n",
            "HTTP request sent, awaiting response... 200 OK\n",
            "Length: 375542 (367K) [text/plain]\n",
            "Saving to: ‘bank.csv’\n",
            "\n",
            "\rbank.csv              0%[                    ]       0  --.-KB/s               \rbank.csv            100%[===================>] 366.74K  --.-KB/s    in 0.04s   \n",
            "\n",
            "2024-10-07 14:28:01 (8.05 MB/s) - ‘bank.csv’ saved [375542/375542]\n",
            "\n"
          ]
        }
      ]
    },
    {
      "cell_type": "code",
      "source": [
        "from pyspark.sql import SparkSession\n",
        "from pyspark.ml.feature import StringIndexer, VectorAssembler\n",
        "from pyspark.ml.classification import RandomForestClassifier\n",
        "from pyspark.ml import Pipeline\n",
        "from pyspark.ml.evaluation import BinaryClassificationEvaluator\n",
        "\n",
        "def data_preprocessing(data, categorical_columns, label_col):\n",
        "    \"\"\"Preprocess the data by encoding categorical variables and assembling features.\"\"\"\n",
        "\n",
        "    # Handle categorical variables using StringIndexer\n",
        "    indexers = [StringIndexer(inputCol=col, outputCol=col + \"_index\") for col in categorical_columns]\n",
        "\n",
        "    # Rename the target column to 'label'\n",
        "    data = data.withColumnRenamed(label_col, \"label\")\n",
        "\n",
        "    # Convert the label column to numerical values\n",
        "    label_indexer = StringIndexer(inputCol=\"label\", outputCol=\"label_index\")\n",
        "    data = label_indexer.fit(data).transform(data)\n",
        "\n",
        "    # Assemble features into a single vector\n",
        "    assembler = VectorAssembler(\n",
        "        inputCols=[\"age\", \"balance\", \"day\", \"duration\", \"campaign\", \"pdays\", \"previous\"] + [col + \"_index\" for col in categorical_columns],\n",
        "        outputCol=\"features\"\n",
        "    )\n",
        "\n",
        "    # Transform the data to include features\n",
        "    data = assembler.transform(data)\n",
        "\n",
        "    return data\n",
        "\n",
        "\n",
        "def model_training_and_evaluation(data, num_trees=100, train_fraction=0.8, seed=1234):\n",
        "    \"\"\"Train a Random Forest model and evaluate its performance.\"\"\"\n",
        "\n",
        "    # Initialize the Random Forest classifier\n",
        "    rf = RandomForestClassifier(labelCol=\"label_index\", featuresCol=\"features\", numTrees=num_trees)\n",
        "\n",
        "    # Define the pipeline\n",
        "    pipeline = Pipeline(stages=[rf])\n",
        "\n",
        "    # Split the data into training and test sets\n",
        "    train_data, test_data = data.randomSplit([train_fraction, 1 - train_fraction], seed=seed)\n",
        "\n",
        "    # Train the model\n",
        "    model = pipeline.fit(train_data)\n",
        "\n",
        "    # Evaluate the model\n",
        "    predictions = model.transform(test_data)\n",
        "    predictions_tr = model.transform(train_data)\n",
        "\n",
        "    evaluator = BinaryClassificationEvaluator(labelCol=\"label_index\")\n",
        "\n",
        "    # Calculate training accuracy\n",
        "    train_accuracy = predictions_tr.filter(predictions_tr.label_index == predictions_tr.prediction).count() / float(train_data.count())\n",
        "    print(f\"Train Accuracy: {train_accuracy}\")\n",
        "\n",
        "    # Calculate test accuracy\n",
        "    test_accuracy = predictions.filter(predictions.label_index == predictions.prediction).count() / float(test_data.count())\n",
        "    print(f\"Test Accuracy: {test_accuracy}\")\n"
      ],
      "metadata": {
        "id": "YLKiOlCKxDdt"
      },
      "execution_count": null,
      "outputs": []
    },
    {
      "cell_type": "code",
      "source": [
        "# Visualize the comparison of train and test accuracy\n",
        "metrics = pd.DataFrame({\n",
        "    'Data Set': ['Train', 'Test'],\n",
        "    'Accuracy': [train_accuracy, test_accuracy]\n",
        "})\n",
        "\n",
        "# Plot the comparison\n",
        "plt.figure(figsize=(10, 6))\n",
        "plt.bar(metrics['Data Set'], metrics['Accuracy'], color=['blue', 'orange'])\n",
        "plt.ylim(0, 1)\n",
        "plt.xlabel('Data Set')\n",
        "plt.ylabel('Accuracy')\n",
        "plt.title('Comparison of Train and Test Accuracy')\n",
        "plt.show()"
      ],
      "metadata": {
        "colab": {
          "base_uri": "https://localhost:8080/"
        },
        "id": "GwLdd_IBzG_u",
        "outputId": "84011528-ee9e-4908-bbab-7d1661463862"
      },
      "execution_count": null,
      "outputs": [
        {
          "output_type": "display_data",
          "data": {
            "text/plain": [
              "<Figure size 1000x600 with 1 Axes>"
            ],
            "image/png": "[encoded data removed]"
          },
          "metadata": {}
        }
      ]
    },
    {
      "cell_type": "markdown",
      "source": [
        "### **Window Operations and Trend Analysis**"
      ],
      "metadata": {
        "id": "BDpBnQWdzQt_"
      }
    },
    {
      "cell_type": "code",
      "source": [
        "from pyspark.sql import SparkSession\n",
        "from pyspark.sql.functions import window, count, avg, current_timestamp\n",
        "from pyspark.sql.types import StructType, StructField, StringType, IntegerType, DoubleType\n",
        "\n",
        "# Create a Spark session\n",
        "spark = SparkSession.builder \\\n",
        "    .appName(\"TransactionAnalysis\") \\\n",
        "    .getOrCreate()\n",
        "\n",
        "# Define the schema for the CSV files\n",
        "schema = StructType([\n",
        "    StructField(\"age\", IntegerType(), True),\n",
        "    StructField(\"job\", StringType(), True),\n",
        "    StructField(\"marital\", StringType(), True),\n",
        "    StructField(\"education\", StringType(), True),\n",
        "    StructField(\"default\", StringType(), True),\n",
        "    StructField(\"balance\", IntegerType(), True),  # Assuming balance is an integer\n",
        "    StructField(\"housing\", StringType(), True),\n",
        "    StructField(\"loan\", StringType(), True),\n",
        "    StructField(\"contact\", StringType(), True),\n",
        "    StructField(\"day\", IntegerType(), True),\n",
        "    StructField(\"month\", StringType(), True),\n",
        "    StructField(\"duration\", IntegerType(), True),\n",
        "    StructField(\"campaign\", IntegerType(), True),\n",
        "    StructField(\"pdays\", IntegerType(), True),\n",
        "    StructField(\"previous\", IntegerType(), True),\n",
        "    StructField(\"poutcome\", StringType(), True),\n",
        "    StructField(\"y\", StringType(), True)\n",
        "])"
      ],
      "metadata": {
        "id": "SdB2wFC6zrwt"
      },
      "execution_count": null,
      "outputs": []
    },
    {
      "cell_type": "code",
      "source": [
        "# Create a PySpark DataFrame from the Pandas DataFrame\n",
        "streaming_df = spark.createDataFrame(df)\n",
        "\n",
        "# Import necessary libraries for stateful processing\n",
        "from pyspark.sql.window import Window\n",
        "from pyspark.sql import functions as F\n",
        "\n",
        "# Add a timestamp column using current_timestamp()\n",
        "streaming_df = streaming_df.withColumn(\"timestamp\", current_timestamp())\n",
        "\n",
        "# Cast balance column to double type\n",
        "streaming_df = streaming_df.withColumn(\"balance\", streaming_df[\"balance\"].cast(\"double\"))\n",
        "\n",
        "# Sort the DataFrame by timestamp\n",
        "sorted_df = streaming_df.orderBy(\"timestamp\")\n",
        "\n",
        "# Define window duration and sliding interval\n",
        "windowDuration = \"1 minute\"\n",
        "slideInterval = \"30 seconds\"\n",
        "\n",
        "# Define a window specification\n",
        "window_spec = Window.orderBy(\"timestamp\").rowsBetween(-5, 0)\n",
        "\n",
        "\n",
        "\n",
        "# Calculate a rolling average sentiment over a window of 6 rows\n",
        "rolling_avg_balance_df = sorted_df.withColumn(\"rolling_avg_balance\", F.avg(\"balance\").over(window_spec))\n",
        "rolling_avg_transaction_df = sorted_df.withColumn(\"rolling_avg_transcation\", F.count(\"balance\").over(window_spec))\n",
        "\n",
        "# Show the resulting DataFrame\n",
        "rolling_avg_balance_df.show()\n",
        "rolling_avg_transaction_df.show()"
      ],
      "metadata": {
        "colab": {
          "base_uri": "https://localhost:8080/"
        },
        "id": "JuSXj7n1zxyD",
        "outputId": "cb8a934d-8da6-479f-fb21-6fd4357f3838"
      },
      "execution_count": null,
      "outputs": [
        {
          "output_type": "stream",
          "name": "stdout",
          "text": [
            "+---+-------------+-------+--------+---+--------------------+-------------------+\n",
            "|age|          job|balance|duration|  y|           timestamp|rolling_avg_balance|\n",
            "+---+-------------+-------+--------+---+--------------------+-------------------+\n",
            "| 30|   unemployed| 1787.0|      79| no|2024-10-07 14:28:...|             1787.0|\n",
            "| 33|     services| 4789.0|     220| no|2024-10-07 14:28:...|             3288.0|\n",
            "| 35|   management| 1350.0|     185| no|2024-10-07 14:28:...|             2642.0|\n",
            "| 30|   management| 1476.0|     199| no|2024-10-07 14:28:...|             2350.5|\n",
            "| 59|  blue-collar|    0.0|     226| no|2024-10-07 14:28:...|             1880.4|\n",
            "| 35|   management|  747.0|     141| no|2024-10-07 14:28:...|             1691.5|\n",
            "| 36|self-employed|  307.0|     341| no|2024-10-07 14:28:...| 1444.8333333333333|\n",
            "| 39|   technician|  147.0|     151| no|2024-10-07 14:28:...|  671.1666666666666|\n",
            "| 41| entrepreneur|  221.0|      57| no|2024-10-07 14:28:...|              483.0|\n",
            "| 43|     services|  -88.0|     313| no|2024-10-07 14:28:...| 222.33333333333334|\n",
            "| 39|     services| 9374.0|     273| no|2024-10-07 14:28:...| 1784.6666666666667|\n",
            "| 43|       admin.|  264.0|     113| no|2024-10-07 14:28:...| 1704.1666666666667|\n",
            "| 36|   technician| 1109.0|     328| no|2024-10-07 14:28:...| 1837.8333333333333|\n",
            "| 20|      student|  502.0|     261|yes|2024-10-07 14:28:...|             1897.0|\n",
            "| 31|  blue-collar|  360.0|      89| no|2024-10-07 14:28:...| 1920.1666666666667|\n",
            "| 40|   management|  194.0|     189| no|2024-10-07 14:28:...| 1967.1666666666667|\n",
            "| 56|   technician| 4073.0|     239| no|2024-10-07 14:28:...| 1083.6666666666667|\n",
            "| 37|       admin.| 2317.0|     114| no|2024-10-07 14:28:...| 1425.8333333333333|\n",
            "| 25|  blue-collar| -221.0|     250| no|2024-10-07 14:28:...| 1204.1666666666667|\n",
            "| 31|     services|  132.0|     148| no|2024-10-07 14:28:...|             1142.5|\n",
            "+---+-------------+-------+--------+---+--------------------+-------------------+\n",
            "only showing top 20 rows\n",
            "\n",
            "+---+-------------+-------+--------+---+--------------------+-----------------------+\n",
            "|age|          job|balance|duration|  y|           timestamp|rolling_avg_transcation|\n",
            "+---+-------------+-------+--------+---+--------------------+-----------------------+\n",
            "| 30|   unemployed| 1787.0|      79| no|2024-10-07 14:28:...|                      1|\n",
            "| 33|     services| 4789.0|     220| no|2024-10-07 14:28:...|                      2|\n",
            "| 35|   management| 1350.0|     185| no|2024-10-07 14:28:...|                      3|\n",
            "| 30|   management| 1476.0|     199| no|2024-10-07 14:28:...|                      4|\n",
            "| 59|  blue-collar|    0.0|     226| no|2024-10-07 14:28:...|                      5|\n",
            "| 35|   management|  747.0|     141| no|2024-10-07 14:28:...|                      6|\n",
            "| 36|self-employed|  307.0|     341| no|2024-10-07 14:28:...|                      6|\n",
            "| 39|   technician|  147.0|     151| no|2024-10-07 14:28:...|                      6|\n",
            "| 41| entrepreneur|  221.0|      57| no|2024-10-07 14:28:...|                      6|\n",
            "| 43|     services|  -88.0|     313| no|2024-10-07 14:28:...|                      6|\n",
            "| 39|     services| 9374.0|     273| no|2024-10-07 14:28:...|                      6|\n",
            "| 43|       admin.|  264.0|     113| no|2024-10-07 14:28:...|                      6|\n",
            "| 36|   technician| 1109.0|     328| no|2024-10-07 14:28:...|                      6|\n",
            "| 20|      student|  502.0|     261|yes|2024-10-07 14:28:...|                      6|\n",
            "| 31|  blue-collar|  360.0|      89| no|2024-10-07 14:28:...|                      6|\n",
            "| 40|   management|  194.0|     189| no|2024-10-07 14:28:...|                      6|\n",
            "| 56|   technician| 4073.0|     239| no|2024-10-07 14:28:...|                      6|\n",
            "| 37|       admin.| 2317.0|     114| no|2024-10-07 14:28:...|                      6|\n",
            "| 25|  blue-collar| -221.0|     250| no|2024-10-07 14:28:...|                      6|\n",
            "| 31|     services|  132.0|     148| no|2024-10-07 14:28:...|                      6|\n",
            "+---+-------------+-------+--------+---+--------------------+-----------------------+\n",
            "only showing top 20 rows\n",
            "\n"
          ]
        }
      ]
    },
    {
      "cell_type": "code",
      "source": [
        "import matplotlib.pyplot as plt\n",
        "\n",
        "# Extract timestamps and rolling average balance values\n",
        "\n",
        "balance_values = rolling_avg_balance_df.select(\"rolling_avg_balance\").collect()\n",
        "\n",
        "transaction_count_values = rolling_avg_transaction_df.select(\"rolling_avg_transcation\").collect()\n",
        "\n",
        "\n",
        "\n",
        "# Plot rolling average balance\n",
        "plt.figure(figsize=(12, 6))\n",
        "plt.plot(transaction_count_values,balance_values, label=\"Rolling Avg. Balance\", color=\"blue\")\n",
        "plt.xlabel(\"Transaction Count\")\n",
        "plt.ylabel(\"Rolling Average Balance\")\n",
        "plt.title(\"Rolling Average Balance Over Transaction Counts\")\n",
        "plt.legend()\n",
        "plt.grid(True)\n",
        "plt.show()"
      ],
      "metadata": {
        "colab": {
          "base_uri": "https://localhost:8080/"
        },
        "id": "MyqlLtCi0GjB",
        "outputId": "6040dc43-7d73-46f1-da59-df8c526b7f2f"
      },
      "execution_count": null,
      "outputs": [
        {
          "output_type": "display_data",
          "data": {
            "text/plain": [
              "<Figure size 1200x600 with 1 Axes>"
            ],
            "image/png": "[encoded data removed]"
          },
          "metadata": {}
        }
      ]
    },
    {
      "cell_type": "markdown",
      "source": [
        "### **Handling Late and Out-of-Order Data**"
      ],
      "metadata": {
        "id": "waRMa_R-0oev"
      }
    },
    {
      "cell_type": "markdown",
      "source": [
        "Here's how we can modify our Spark Streaming application to handle late and out-of-order data using watermarking:\n",
        "\n",
        "Define Event Time: Ensure that our streaming data contains a timestamp indicating the event time. This timestamp should represent when the event occurred, not when it was processed.\n",
        "\n",
        "Specify Watermark: Set a watermark for our streaming DataFrame or Dataset using the withWatermark function. This function specifies the maximum delay allowed for late data.\n",
        "\n",
        "Use Event Time in Windowing: When defining window operations (e.g., aggregations over time windows), specify the column representing the event time. This ensures that Spark uses the event time for windowing calculations.\n",
        "\n",
        "Handle Late Data: Spark will automatically handle late data based on the watermark specified. Late data that arrives after the watermark threshold will be considered irrelevant for computations and will be dropped.\n",
        "\n",
        "Ensure Data Ordering: It's essential to ensure that our streaming data is ordered by event time before performing window operations. We can achieve this by sorting our DataFrame or Dataset by the event time column.\n",
        "\n",
        "By implementing watermarking in our Spark Structured Streaming application, we can improve the accuracy of real-time analytics by:\n",
        "\n",
        "Ensuring that only relevant data within the specified event time window is considered for computations.\n",
        "Handling out-of-order data gracefully by accommodating delays in data arrival.\n",
        "Preventing over-counting or under-counting of events that arrive late or out of order.\n",
        "Providing more accurate insights and analytics results based on a complete and consistent view of the data within the defined time windows."
      ],
      "metadata": {
        "id": "9hpzywxj0q33"
      }
    },
    {
      "cell_type": "code",
      "source": [
        "from pyspark.sql import SparkSession\n",
        "from pyspark.sql.functions import window, count, avg, current_timestamp\n",
        "from pyspark.sql.types import StructType, StructField, StringType, IntegerType, DoubleType\n",
        "\n",
        "# Create a Spark session\n",
        "spark = SparkSession.builder \\\n",
        "    .appName(\"TransactionWatermarking\") \\\n",
        "    .getOrCreate()\n",
        "\n",
        "# Create a PySpark DataFrame from the Pandas DataFrame\n",
        "streaming_df = spark.createDataFrame(df)\n",
        "\n",
        "# Add a timestamp column using current_timestamp()\n",
        "streaming_df = streaming_df.withColumn(\"timestamp\", current_timestamp())\n",
        "\n",
        "# Define watermark for late data handling\n",
        "watermark_duration = \"10 seconds\"\n",
        "\n",
        "# Define window duration and sliding interval\n",
        "windowDuration = \"1 minute\"\n",
        "slideInterval = \"30 seconds\"\n",
        "\n",
        "# Cast balance column to double type\n",
        "streaming_df = streaming_df.withColumn(\"balance\", streaming_df[\"balance\"].cast(\"double\"))\n",
        "\n",
        "# Apply watermarking to handle late data\n",
        "streaming_df = streaming_df.withWatermark(\"timestamp\", watermark_duration)\n",
        "\n",
        "# Sort the DataFrame by timestamp\n",
        "sorted_df = streaming_df.orderBy(\"timestamp\")\n",
        "\n",
        "# Define a window specification\n",
        "window_spec = window(\"timestamp\", windowDuration, slideInterval)\n",
        "\n",
        "# Calculate a rolling average balance over a window of 6 rows\n",
        "rolling_avg_balance_df = sorted_df \\\n",
        "    .groupBy(window_spec) \\\n",
        "    .agg(F.avg(\"balance\").alias(\"rolling_avg_balance\"))\n",
        "\n",
        "# Calculate the count of transactions within the window\n",
        "rolling_avg_transaction_df = sorted_df \\\n",
        "    .groupBy(window_spec) \\\n",
        "    .agg(count(\"*\").alias(\"transaction_count\"))\n",
        "\n",
        "rolling_avg_balance_df.show()\n",
        "rolling_avg_transaction_df.show()"
      ],
      "metadata": {
        "colab": {
          "base_uri": "https://localhost:8080/"
        },
        "id": "ri3mTC_f0uhf",
        "outputId": "81217212-04dc-4008-f073-c3c857ceb1b9"
      },
      "execution_count": null,
      "outputs": [
        {
          "output_type": "stream",
          "name": "stdout",
          "text": [
            "+--------------------+-------------------+\n",
            "|              window|rolling_avg_balance|\n",
            "+--------------------+-------------------+\n",
            "|{2024-10-07 14:28...| 1422.6578190665782|\n",
            "|{2024-10-07 14:27...| 1422.6578190665782|\n",
            "+--------------------+-------------------+\n",
            "\n",
            "+--------------------+-----------------+\n",
            "|              window|transaction_count|\n",
            "+--------------------+-----------------+\n",
            "|{2024-10-07 14:28...|             4521|\n",
            "|{2024-10-07 14:27...|             4521|\n",
            "+--------------------+-----------------+\n",
            "\n"
          ]
        }
      ]
    },
    {
      "cell_type": "markdown",
      "source": [
        "# **4. Efficient Data Handling through Data Parallelism**"
      ],
      "metadata": {
        "id": "qUzxLmgX1Dvc"
      }
    },
    {
      "cell_type": "markdown",
      "source": [
        "### **1.\tData Preparation and Partitioning**"
      ],
      "metadata": {
        "id": "glkv9e_h2MGU"
      }
    },
    {
      "cell_type": "markdown",
      "source": [
        "○\tLoad the \"bank.csv\" dataset into a Spark DataFrame and inspect the first few rows.\n",
        "○\tImplement a method to divide the dataset into smaller partitions for parallel processing\n",
        "\n",
        "Strategy used:\n",
        "For partitioning the data, I used random partitioning. This strategy involves splitting the data into smaller subsets where each row is randomly assigned to one of the partitions, rather than following any specific order or range of values.\n",
        "\n",
        "**Why Random Partitioning?**\n",
        "\n",
        "Avoids Bias: Random partitioning helps to avoid bias that might arise from the inherent order in the data (e.g., time, categories). In many datasets, rows may be ordered by time, geography, or other factors, and splitting them by range could lead to partitions that are not representative of the entire dataset. Random partitioning ensures that each partition contains a well-mixed subset of the data, maintaining the diversity of the dataset across partitions.\n",
        "\n",
        "Balances Class Distribution: In cases like binary classification (or any machine learning task), random partitioning ensures that the class labels (target variables) are more likely to be evenly distributed across partitions. This is crucial for training and testing models, as imbalanced partitions could lead to overfitting or poor generalization.\n",
        "\n",
        "Improves Parallel Processing: Random partitioning allows distributed systems like Spark to process data more efficiently. Since the data is evenly distributed, computational tasks can be parallelized more effectively, avoiding bottlenecks caused by uneven or skewed data distribution."
      ],
      "metadata": {
        "id": "zklYzrNb2QJt"
      }
    },
    {
      "cell_type": "code",
      "source": [
        "# Create a Spark session\n",
        "spark = SparkSession.builder \\\n",
        "    .appName(\"BankTermDepositPrediction\") \\\n",
        "    .config(\"spark.sql.shuffle.partitions\", \"4\") \\\n",
        "    .config(\"spark.executor.memory\", \"2g\") \\\n",
        "    .config(\"spark.driver.memory\", \"2g\") \\\n",
        "    .getOrCreate()\n",
        "\n",
        "# Load the dataset\n",
        "!wget https://raw.githubusercontent.com/Satyam-G-Kulkarni/Financial_Forecasting_Frontier/refs/heads/main/bank.csv -O bank.csv\n",
        "\n",
        "df = spark.read.csv(\"bank.csv\", header=True, inferSchema=True)"
      ],
      "metadata": {
        "colab": {
          "base_uri": "https://localhost:8080/"
        },
        "id": "89MUwmDh33z5",
        "outputId": "6d569672-d1f7-4cf2-fb44-fa2a77fa25a1"
      },
      "execution_count": null,
      "outputs": [
        {
          "output_type": "stream",
          "name": "stdout",
          "text": [
            "--2024-10-07 14:28:09--  https://raw.githubusercontent.com/Satyam-G-Kulkarni/Financial_Forecasting_Frontier/refs/heads/main/bank.csv\n",
            "Resolving raw.githubusercontent.com (raw.githubusercontent.com)... 185.199.108.133, 185.199.109.133, 185.199.110.133, ...\n",
            "Connecting to raw.githubusercontent.com (raw.githubusercontent.com)|185.199.108.133|:443... connected.\n",
            "HTTP request sent, awaiting response... 200 OK\n",
            "Length: 375542 (367K) [text/plain]\n",
            "Saving to: ‘bank.csv’\n",
            "\n",
            "bank.csv            100%[===================>] 366.74K  --.-KB/s    in 0.05s   \n",
            "\n",
            "2024-10-07 14:28:09 (7.93 MB/s) - ‘bank.csv’ saved [375542/375542]\n",
            "\n"
          ]
        }
      ]
    },
    {
      "cell_type": "code",
      "source": [
        "from pyspark.sql import SparkSession\n",
        "from pyspark.sql.functions import rand\n",
        "\n",
        "# Initialize a Spark session\n",
        "spark = SparkSession.builder.appName(\"RandomDatasetSplitter\").getOrCreate()\n",
        "\n",
        "df = df.limit(1000)  # Just using this as you have in your code for limiting\n",
        "\n",
        "# Define the number of partitions\n",
        "num_partitions = 4  # Adjust this as needed\n",
        "\n",
        "# Shuffle the DataFrame using a random column for partitioning\n",
        "df = df.orderBy(rand())\n",
        "\n",
        "# Calculate the number of rows per partition\n",
        "total_rows = df.count()\n",
        "rows_per_partition = total_rows // num_partitions\n",
        "\n",
        "# Create a new DataFrame with partitions using random partitioning\n",
        "partitioned_dfs = []\n",
        "\n",
        "for i in range(num_partitions):\n",
        "    # Calculate the starting and ending row numbers for each partition\n",
        "    start_row = i * rows_per_partition\n",
        "    end_row = (i + 1) * rows_per_partition\n",
        "\n",
        "    # Filter the DataFrame to create a partition\n",
        "    partition_df = df.limit(end_row).subtract(df.limit(start_row))  # Random partitioning\n",
        "\n",
        "    # Convert the partitioned Spark DataFrame to Pandas DataFrame\n",
        "    partition_pd_df = partition_df.toPandas()\n",
        "\n",
        "    # Save the Pandas DataFrame to a list\n",
        "    partitioned_dfs.append(partition_pd_df)\n"
      ],
      "metadata": {
        "id": "MOLrF1Hm4iGY"
      },
      "execution_count": null,
      "outputs": []
    },
    {
      "cell_type": "code",
      "source": [
        "# Show the first partition as an example\n",
        "partitioned_dfs[0]"
      ],
      "metadata": {
        "colab": {
          "base_uri": "https://localhost:8080/"
        },
        "id": "p-awG4hP4ulO",
        "outputId": "df402b9a-13cf-45af-b9db-9e8513de4efd"
      },
      "execution_count": null,
      "outputs": [
        {
          "output_type": "execute_result",
          "data": {
            "text/plain": [
              "     age           job   marital  education default  balance housing loan  \\\n",
              "0     47    technician   married  secondary      no      -75     yes   no   \n",
              "1     28    technician    single  secondary      no        3      no   no   \n",
              "2     37    management   married   tertiary      no     1315      no   no   \n",
              "3     42    management   married   tertiary      no     9009      no   no   \n",
              "4     55     housemaid  divorced    primary      no      976      no   no   \n",
              "..   ...           ...       ...        ...     ...      ...     ...  ...   \n",
              "245   32    technician    single  secondary      no      271     yes   no   \n",
              "246   55  entrepreneur  divorced   tertiary      no        0      no   no   \n",
              "247   37        admin.    single   tertiary      no     2317     yes   no   \n",
              "248   37        admin.   married  secondary      no     1314     yes   no   \n",
              "249   43   blue-collar    single    primary      no        2     yes   no   \n",
              "\n",
              "       contact  day month  duration  campaign  pdays  previous poutcome    y  \n",
              "0     cellular    4   feb        57         1    247         1    other   no  \n",
              "1    telephone   18   may        40         8    349         6  failure   no  \n",
              "2     cellular   30   jun       224         1     -1         0  unknown  yes  \n",
              "3     cellular   20   nov       135         2     -1         0  unknown   no  \n",
              "4     cellular   28   jun       345         1     94         3    other  yes  \n",
              "..         ...  ...   ...       ...       ...    ...       ...      ...  ...  \n",
              "245   cellular   13   may        80         2    268         2    other   no  \n",
              "246    unknown    6   jun       108         2     -1         0  unknown   no  \n",
              "247   cellular   20   apr       114         1    152         2  failure   no  \n",
              "248   cellular    8   may       682         2     85         7  success   no  \n",
              "249   cellular   30   jul       783         3     -1         0  unknown   no  \n",
              "\n",
              "[250 rows x 17 columns]"
            ],
            "text/html": [
              "\n",
              "  <div id=\"df-4687d92b-f371-45eb-ae62-7618e1cdd0d7\" class=\"colab-df-container\">\n",
              "    <div>\n",
              "<style scoped>\n",
              "    .dataframe tbody tr th:only-of-type {\n",
              "        vertical-align: middle;\n",
              "    }\n",
              "\n",
              "    .dataframe tbody tr th {\n",
              "        vertical-align: top;\n",
              "    }\n",
              "\n",
              "    .dataframe thead th {\n",
              "        text-align: right;\n",
              "    }\n",
              "</style>\n",
              "<table border=\"1\" class=\"dataframe\">\n",
              "  <thead>\n",
              "    <tr style=\"text-align: right;\">\n",
              "      <th></th>\n",
              "      <th>age</th>\n",
              "      <th>job</th>\n",
              "      <th>marital</th>\n",
              "      <th>education</th>\n",
              "      <th>default</th>\n",
              "      <th>balance</th>\n",
              "      <th>housing</th>\n",
              "      <th>loan</th>\n",
              "      <th>contact</th>\n",
              "      <th>day</th>\n",
              "      <th>month</th>\n",
              "      <th>duration</th>\n",
              "      <th>campaign</th>\n",
              "      <th>pdays</th>\n",
              "      <th>previous</th>\n",
              "      <th>poutcome</th>\n",
              "      <th>y</th>\n",
              "    </tr>\n",
              "  </thead>\n",
              "  <tbody>\n",
              "    <tr>\n",
              "      <th>0</th>\n",
              "      <td>47</td>\n",
              "      <td>technician</td>\n",
              "      <td>married</td>\n",
              "      <td>secondary</td>\n",
              "      <td>no</td>\n",
              "      <td>-75</td>\n",
              "      <td>yes</td>\n",
              "      <td>no</td>\n",
              "      <td>cellular</td>\n",
              "      <td>4</td>\n",
              "      <td>feb</td>\n",
              "      <td>57</td>\n",
              "      <td>1</td>\n",
              "      <td>247</td>\n",
              "      <td>1</td>\n",
              "      <td>other</td>\n",
              "      <td>no</td>\n",
              "    </tr>\n",
              "    <tr>\n",
              "      <th>1</th>\n",
              "      <td>28</td>\n",
              "      <td>technician</td>\n",
              "      <td>single</td>\n",
              "      <td>secondary</td>\n",
              "      <td>no</td>\n",
              "      <td>3</td>\n",
              "      <td>no</td>\n",
              "      <td>no</td>\n",
              "      <td>telephone</td>\n",
              "      <td>18</td>\n",
              "      <td>may</td>\n",
              "      <td>40</td>\n",
              "      <td>8</td>\n",
              "      <td>349</td>\n",
              "      <td>6</td>\n",
              "      <td>failure</td>\n",
              "      <td>no</td>\n",
              "    </tr>\n",
              "    <tr>\n",
              "      <th>2</th>\n",
              "      <td>37</td>\n",
              "      <td>management</td>\n",
              "      <td>married</td>\n",
              "      <td>tertiary</td>\n",
              "      <td>no</td>\n",
              "      <td>1315</td>\n",
              "      <td>no</td>\n",
              "      <td>no</td>\n",
              "      <td>cellular</td>\n",
              "      <td>30</td>\n",
              "      <td>jun</td>\n",
              "      <td>224</td>\n",
              "      <td>1</td>\n",
              "      <td>-1</td>\n",
              "      <td>0</td>\n",
              "      <td>unknown</td>\n",
              "      <td>yes</td>\n",
              "    </tr>\n",
              "    <tr>\n",
              "      <th>3</th>\n",
              "      <td>42</td>\n",
              "      <td>management</td>\n",
              "      <td>married</td>\n",
              "      <td>tertiary</td>\n",
              "      <td>no</td>\n",
              "      <td>9009</td>\n",
              "      <td>no</td>\n",
              "      <td>no</td>\n",
              "      <td>cellular</td>\n",
              "      <td>20</td>\n",
              "      <td>nov</td>\n",
              "      <td>135</td>\n",
              "      <td>2</td>\n",
              "      <td>-1</td>\n",
              "      <td>0</td>\n",
              "      <td>unknown</td>\n",
              "      <td>no</td>\n",
              "    </tr>\n",
              "    <tr>\n",
              "      <th>4</th>\n",
              "      <td>55</td>\n",
              "      <td>housemaid</td>\n",
              "      <td>divorced</td>\n",
              "      <td>primary</td>\n",
              "      <td>no</td>\n",
              "      <td>976</td>\n",
              "      <td>no</td>\n",
              "      <td>no</td>\n",
              "      <td>cellular</td>\n",
              "      <td>28</td>\n",
              "      <td>jun</td>\n",
              "      <td>345</td>\n",
              "      <td>1</td>\n",
              "      <td>94</td>\n",
              "      <td>3</td>\n",
              "      <td>other</td>\n",
              "      <td>yes</td>\n",
              "    </tr>\n",
              "    <tr>\n",
              "      <th>...</th>\n",
              "      <td>...</td>\n",
              "      <td>...</td>\n",
              "      <td>...</td>\n",
              "      <td>...</td>\n",
              "      <td>...</td>\n",
              "      <td>...</td>\n",
              "      <td>...</td>\n",
              "      <td>...</td>\n",
              "      <td>...</td>\n",
              "      <td>...</td>\n",
              "      <td>...</td>\n",
              "      <td>...</td>\n",
              "      <td>...</td>\n",
              "      <td>...</td>\n",
              "      <td>...</td>\n",
              "      <td>...</td>\n",
              "      <td>...</td>\n",
              "    </tr>\n",
              "    <tr>\n",
              "      <th>245</th>\n",
              "      <td>32</td>\n",
              "      <td>technician</td>\n",
              "      <td>single</td>\n",
              "      <td>secondary</td>\n",
              "      <td>no</td>\n",
              "      <td>271</td>\n",
              "      <td>yes</td>\n",
              "      <td>no</td>\n",
              "      <td>cellular</td>\n",
              "      <td>13</td>\n",
              "      <td>may</td>\n",
              "      <td>80</td>\n",
              "      <td>2</td>\n",
              "      <td>268</td>\n",
              "      <td>2</td>\n",
              "      <td>other</td>\n",
              "      <td>no</td>\n",
              "    </tr>\n",
              "    <tr>\n",
              "      <th>246</th>\n",
              "      <td>55</td>\n",
              "      <td>entrepreneur</td>\n",
              "      <td>divorced</td>\n",
              "      <td>tertiary</td>\n",
              "      <td>no</td>\n",
              "      <td>0</td>\n",
              "      <td>no</td>\n",
              "      <td>no</td>\n",
              "      <td>unknown</td>\n",
              "      <td>6</td>\n",
              "      <td>jun</td>\n",
              "      <td>108</td>\n",
              "      <td>2</td>\n",
              "      <td>-1</td>\n",
              "      <td>0</td>\n",
              "      <td>unknown</td>\n",
              "      <td>no</td>\n",
              "    </tr>\n",
              "    <tr>\n",
              "      <th>247</th>\n",
              "      <td>37</td>\n",
              "      <td>admin.</td>\n",
              "      <td>single</td>\n",
              "      <td>tertiary</td>\n",
              "      <td>no</td>\n",
              "      <td>2317</td>\n",
              "      <td>yes</td>\n",
              "      <td>no</td>\n",
              "      <td>cellular</td>\n",
              "      <td>20</td>\n",
              "      <td>apr</td>\n",
              "      <td>114</td>\n",
              "      <td>1</td>\n",
              "      <td>152</td>\n",
              "      <td>2</td>\n",
              "      <td>failure</td>\n",
              "      <td>no</td>\n",
              "    </tr>\n",
              "    <tr>\n",
              "      <th>248</th>\n",
              "      <td>37</td>\n",
              "      <td>admin.</td>\n",
              "      <td>married</td>\n",
              "      <td>secondary</td>\n",
              "      <td>no</td>\n",
              "      <td>1314</td>\n",
              "      <td>yes</td>\n",
              "      <td>no</td>\n",
              "      <td>cellular</td>\n",
              "      <td>8</td>\n",
              "      <td>may</td>\n",
              "      <td>682</td>\n",
              "      <td>2</td>\n",
              "      <td>85</td>\n",
              "      <td>7</td>\n",
              "      <td>success</td>\n",
              "      <td>no</td>\n",
              "    </tr>\n",
              "    <tr>\n",
              "      <th>249</th>\n",
              "      <td>43</td>\n",
              "      <td>blue-collar</td>\n",
              "      <td>single</td>\n",
              "      <td>primary</td>\n",
              "      <td>no</td>\n",
              "      <td>2</td>\n",
              "      <td>yes</td>\n",
              "      <td>no</td>\n",
              "      <td>cellular</td>\n",
              "      <td>30</td>\n",
              "      <td>jul</td>\n",
              "      <td>783</td>\n",
              "      <td>3</td>\n",
              "      <td>-1</td>\n",
              "      <td>0</td>\n",
              "      <td>unknown</td>\n",
              "      <td>no</td>\n",
              "    </tr>\n",
              "  </tbody>\n",
              "</table>\n",
              "<p>250 rows × 17 columns</p>\n",
              "</div>\n",
              "    <div class=\"colab-df-buttons\">\n",
              "\n",
              "  <div class=\"colab-df-container\">\n",
              "    <button class=\"colab-df-convert\" onclick=\"convertToInteractive('df-4687d92b-f371-45eb-ae62-7618e1cdd0d7')\"\n",
              "            title=\"Convert this dataframe to an interactive table.\"\n",
              "            style=\"display:none;\">\n",
              "\n",
              "  <svg xmlns=\"http://www.w3.org/2000/svg\" height=\"24px\" viewBox=\"0 -960 960 960\">\n",
              "    <path d=\"M120-120v-720h720v720H120Zm60-500h600v-160H180v160Zm220 220h160v-160H400v160Zm0 220h160v-160H400v160ZM180-400h160v-160H180v160Zm440 0h160v-160H620v160ZM180-180h160v-160H180v160Zm440 0h160v-160H620v160Z\"/>\n",
              "  </svg>\n",
              "    </button>\n",
              "\n",
              "  <style>\n",
              "    .colab-df-container {\n",
              "      display:flex;\n",
              "      gap: 12px;\n",
              "    }\n",
              "\n",
              "    .colab-df-convert {\n",
              "      background-color: #E8F0FE;\n",
              "      border: none;\n",
              "      border-radius: 50%;\n",
              "      cursor: pointer;\n",
              "      display: none;\n",
              "      fill: #1967D2;\n",
              "      height: 32px;\n",
              "      padding: 0 0 0 0;\n",
              "      width: 32px;\n",
              "    }\n",
              "\n",
              "    .colab-df-convert:hover {\n",
              "      background-color: #E2EBFA;\n",
              "      box-shadow: 0px 1px 2px rgba(60, 64, 67, 0.3), 0px 1px 3px 1px rgba(60, 64, 67, 0.15);\n",
              "      fill: #174EA6;\n",
              "    }\n",
              "\n",
              "    .colab-df-buttons div {\n",
              "      margin-bottom: 4px;\n",
              "    }\n",
              "\n",
              "    [theme=dark] .colab-df-convert {\n",
              "      background-color: #3B4455;\n",
              "      fill: #D2E3FC;\n",
              "    }\n",
              "\n",
              "    [theme=dark] .colab-df-convert:hover {\n",
              "      background-color: #434B5C;\n",
              "      box-shadow: 0px 1px 3px 1px rgba(0, 0, 0, 0.15);\n",
              "      filter: drop-shadow(0px 1px 2px rgba(0, 0, 0, 0.3));\n",
              "      fill: #FFFFFF;\n",
              "    }\n",
              "  </style>\n",
              "\n",
              "    <script>\n",
              "      const buttonEl =\n",
              "        document.querySelector('#df-4687d92b-f371-45eb-ae62-7618e1cdd0d7 button.colab-df-convert');\n",
              "      buttonEl.style.display =\n",
              "        google.colab.kernel.accessAllowed ? 'block' : 'none';\n",
              "\n",
              "      async function convertToInteractive(key) {\n",
              "        const element = document.querySelector('#df-4687d92b-f371-45eb-ae62-7618e1cdd0d7');\n",
              "        const dataTable =\n",
              "          await google.colab.kernel.invokeFunction('convertToInteractive',\n",
              "                                                    [key], {});\n",
              "        if (!dataTable) return;\n",
              "\n",
              "        const docLinkHtml = 'Like what you see? Visit the ' +\n",
              "          '<a target=\"_blank\" href=https://colab.research.google.com/notebooks/data_table.ipynb>data table notebook</a>'\n",
              "          + ' to learn more about interactive tables.';\n",
              "        element.innerHTML = '';\n",
              "        dataTable['output_type'] = 'display_data';\n",
              "        await google.colab.output.renderOutput(dataTable, element);\n",
              "        const docLink = document.createElement('div');\n",
              "        docLink.innerHTML = docLinkHtml;\n",
              "        element.appendChild(docLink);\n",
              "      }\n",
              "    </script>\n",
              "  </div>\n",
              "\n",
              "\n",
              "<div id=\"df-27199304-ee55-4f22-a854-8abbd4d1c1f2\">\n",
              "  <button class=\"colab-df-quickchart\" onclick=\"quickchart('df-27199304-ee55-4f22-a854-8abbd4d1c1f2')\"\n",
              "            title=\"Suggest charts\"\n",
              "            style=\"display:none;\">\n",
              "\n",
              "<svg xmlns=\"http://www.w3.org/2000/svg\" height=\"24px\"viewBox=\"0 0 24 24\"\n",
              "     width=\"24px\">\n",
              "    <g>\n",
              "        <path d=\"M19 3H5c-1.1 0-2 .9-2 2v14c0 1.1.9 2 2 2h14c1.1 0 2-.9 2-2V5c0-1.1-.9-2-2-2zM9 17H7v-7h2v7zm4 0h-2V7h2v10zm4 0h-2v-4h2v4z\"/>\n",
              "    </g>\n",
              "</svg>\n",
              "  </button>\n",
              "\n",
              "<style>\n",
              "  .colab-df-quickchart {\n",
              "      --bg-color: #E8F0FE;\n",
              "      --fill-color: #1967D2;\n",
              "      --hover-bg-color: #E2EBFA;\n",
              "      --hover-fill-color: #174EA6;\n",
              "      --disabled-fill-color: #AAA;\n",
              "      --disabled-bg-color: #DDD;\n",
              "  }\n",
              "\n",
              "  [theme=dark] .colab-df-quickchart {\n",
              "      --bg-color: #3B4455;\n",
              "      --fill-color: #D2E3FC;\n",
              "      --hover-bg-color: #434B5C;\n",
              "      --hover-fill-color: #FFFFFF;\n",
              "      --disabled-bg-color: #3B4455;\n",
              "      --disabled-fill-color: #666;\n",
              "  }\n",
              "\n",
              "  .colab-df-quickchart {\n",
              "    background-color: var(--bg-color);\n",
              "    border: none;\n",
              "    border-radius: 50%;\n",
              "    cursor: pointer;\n",
              "    display: none;\n",
              "    fill: var(--fill-color);\n",
              "    height: 32px;\n",
              "    padding: 0;\n",
              "    width: 32px;\n",
              "  }\n",
              "\n",
              "  .colab-df-quickchart:hover {\n",
              "    background-color: var(--hover-bg-color);\n",
              "    box-shadow: 0 1px 2px rgba(60, 64, 67, 0.3), 0 1px 3px 1px rgba(60, 64, 67, 0.15);\n",
              "    fill: var(--button-hover-fill-color);\n",
              "  }\n",
              "\n",
              "  .colab-df-quickchart-complete:disabled,\n",
              "  .colab-df-quickchart-complete:disabled:hover {\n",
              "    background-color: var(--disabled-bg-color);\n",
              "    fill: var(--disabled-fill-color);\n",
              "    box-shadow: none;\n",
              "  }\n",
              "\n",
              "  .colab-df-spinner {\n",
              "    border: 2px solid var(--fill-color);\n",
              "    border-color: transparent;\n",
              "    border-bottom-color: var(--fill-color);\n",
              "    animation:\n",
              "      spin 1s steps(1) infinite;\n",
              "  }\n",
              "\n",
              "  @keyframes spin {\n",
              "    0% {\n",
              "      border-color: transparent;\n",
              "      border-bottom-color: var(--fill-color);\n",
              "      border-left-color: var(--fill-color);\n",
              "    }\n",
              "    20% {\n",
              "      border-color: transparent;\n",
              "      border-left-color: var(--fill-color);\n",
              "      border-top-color: var(--fill-color);\n",
              "    }\n",
              "    30% {\n",
              "      border-color: transparent;\n",
              "      border-left-color: var(--fill-color);\n",
              "      border-top-color: var(--fill-color);\n",
              "      border-right-color: var(--fill-color);\n",
              "    }\n",
              "    40% {\n",
              "      border-color: transparent;\n",
              "      border-right-color: var(--fill-color);\n",
              "      border-top-color: var(--fill-color);\n",
              "    }\n",
              "    60% {\n",
              "      border-color: transparent;\n",
              "      border-right-color: var(--fill-color);\n",
              "    }\n",
              "    80% {\n",
              "      border-color: transparent;\n",
              "      border-right-color: var(--fill-color);\n",
              "      border-bottom-color: var(--fill-color);\n",
              "    }\n",
              "    90% {\n",
              "      border-color: transparent;\n",
              "      border-bottom-color: var(--fill-color);\n",
              "    }\n",
              "  }\n",
              "</style>\n",
              "\n",
              "  <script>\n",
              "    async function quickchart(key) {\n",
              "      const quickchartButtonEl =\n",
              "        document.querySelector('#' + key + ' button');\n",
              "      quickchartButtonEl.disabled = true;  // To prevent multiple clicks.\n",
              "      quickchartButtonEl.classList.add('colab-df-spinner');\n",
              "      try {\n",
              "        const charts = await google.colab.kernel.invokeFunction(\n",
              "            'suggestCharts', [key], {});\n",
              "      } catch (error) {\n",
              "        console.error('Error during call to suggestCharts:', error);\n",
              "      }\n",
              "      quickchartButtonEl.classList.remove('colab-df-spinner');\n",
              "      quickchartButtonEl.classList.add('colab-df-quickchart-complete');\n",
              "    }\n",
              "    (() => {\n",
              "      let quickchartButtonEl =\n",
              "        document.querySelector('#df-27199304-ee55-4f22-a854-8abbd4d1c1f2 button');\n",
              "      quickchartButtonEl.style.display =\n",
              "        google.colab.kernel.accessAllowed ? 'block' : 'none';\n",
              "    })();\n",
              "  </script>\n",
              "</div>\n",
              "\n",
              "    </div>\n",
              "  </div>\n"
            ],
            "application/vnd.google.colaboratory.intrinsic+json": {
              "type": "dataframe",
              "summary": "{\n  \"name\": \"partitioned_dfs[0]\",\n  \"rows\": 250,\n  \"fields\": [\n    {\n      \"column\": \"age\",\n      \"properties\": {\n        \"dtype\": \"int32\",\n        \"num_unique_values\": 46,\n        \"samples\": [\n          30,\n          52,\n          36\n        ],\n        \"semantic_type\": \"\",\n        \"description\": \"\"\n      }\n    },\n    {\n      \"column\": \"job\",\n      \"properties\": {\n        \"dtype\": \"category\",\n        \"num_unique_values\": 11,\n        \"samples\": [\n          \"unemployed\",\n          \"technician\",\n          \"entrepreneur\"\n        ],\n        \"semantic_type\": \"\",\n        \"description\": \"\"\n      }\n    },\n    {\n      \"column\": \"marital\",\n      \"properties\": {\n        \"dtype\": \"category\",\n        \"num_unique_values\": 3,\n        \"samples\": [\n          \"married\",\n          \"single\",\n          \"divorced\"\n        ],\n        \"semantic_type\": \"\",\n        \"description\": \"\"\n      }\n    },\n    {\n      \"column\": \"education\",\n      \"properties\": {\n        \"dtype\": \"category\",\n        \"num_unique_values\": 4,\n        \"samples\": [\n          \"tertiary\",\n          \"unknown\",\n          \"secondary\"\n        ],\n        \"semantic_type\": \"\",\n        \"description\": \"\"\n      }\n    },\n    {\n      \"column\": \"default\",\n      \"properties\": {\n        \"dtype\": \"category\",\n        \"num_unique_values\": 2,\n        \"samples\": [\n          \"yes\",\n          \"no\"\n        ],\n        \"semantic_type\": \"\",\n        \"description\": \"\"\n      }\n    },\n    {\n      \"column\": \"balance\",\n      \"properties\": {\n        \"dtype\": \"int32\",\n        \"num_unique_values\": 220,\n        \"samples\": [\n          660,\n          920\n        ],\n        \"semantic_type\": \"\",\n        \"description\": \"\"\n      }\n    },\n    {\n      \"column\": \"housing\",\n      \"properties\": {\n        \"dtype\": \"category\",\n        \"num_unique_values\": 2,\n        \"samples\": [\n          \"no\",\n          \"yes\"\n        ],\n        \"semantic_type\": \"\",\n        \"description\": \"\"\n      }\n    },\n    {\n      \"column\": \"loan\",\n      \"properties\": {\n        \"dtype\": \"category\",\n        \"num_unique_values\": 2,\n        \"samples\": [\n          \"yes\",\n          \"no\"\n        ],\n        \"semantic_type\": \"\",\n        \"description\": \"\"\n      }\n    },\n    {\n      \"column\": \"contact\",\n      \"properties\": {\n        \"dtype\": \"category\",\n        \"num_unique_values\": 3,\n        \"samples\": [\n          \"cellular\",\n          \"telephone\"\n        ],\n        \"semantic_type\": \"\",\n        \"description\": \"\"\n      }\n    },\n    {\n      \"column\": \"day\",\n      \"properties\": {\n        \"dtype\": \"int32\",\n        \"num_unique_values\": 31,\n        \"samples\": [\n          22,\n          8\n        ],\n        \"semantic_type\": \"\",\n        \"description\": \"\"\n      }\n    },\n    {\n      \"column\": \"month\",\n      \"properties\": {\n        \"dtype\": \"category\",\n        \"num_unique_values\": 11,\n        \"samples\": [\n          \"aug\",\n          \"feb\"\n        ],\n        \"semantic_type\": \"\",\n        \"description\": \"\"\n      }\n    },\n    {\n      \"column\": \"duration\",\n      \"properties\": {\n        \"dtype\": \"int32\",\n        \"num_unique_values\": 187,\n        \"samples\": [\n          682,\n          700\n        ],\n        \"semantic_type\": \"\",\n        \"description\": \"\"\n      }\n    },\n    {\n      \"column\": \"campaign\",\n      \"properties\": {\n        \"dtype\": \"int32\",\n        \"num_unique_values\": 13,\n        \"samples\": [\n          14,\n          12\n        ],\n        \"semantic_type\": \"\",\n        \"description\": \"\"\n      }\n    },\n    {\n      \"column\": \"pdays\",\n      \"properties\": {\n        \"dtype\": \"int32\",\n        \"num_unique_values\": 56,\n        \"samples\": [\n          247,\n          345\n        ],\n        \"semantic_type\": \"\",\n        \"description\": \"\"\n      }\n    },\n    {\n      \"column\": \"previous\",\n      \"properties\": {\n        \"dtype\": \"int32\",\n        \"num_unique_values\": 11,\n        \"samples\": [\n          2,\n          1\n        ],\n        \"semantic_type\": \"\",\n        \"description\": \"\"\n      }\n    },\n    {\n      \"column\": \"poutcome\",\n      \"properties\": {\n        \"dtype\": \"category\",\n        \"num_unique_values\": 4,\n        \"samples\": [\n          \"failure\",\n          \"success\"\n        ],\n        \"semantic_type\": \"\",\n        \"description\": \"\"\n      }\n    },\n    {\n      \"column\": \"y\",\n      \"properties\": {\n        \"dtype\": \"category\",\n        \"num_unique_values\": 2,\n        \"samples\": [\n          \"yes\",\n          \"no\"\n        ],\n        \"semantic_type\": \"\",\n        \"description\": \"\"\n      }\n    }\n  ]\n}"
            }
          },
          "metadata": {},
          "execution_count": 51
        }
      ]
    },
    {
      "cell_type": "code",
      "source": [
        "# Save each partitioned DataFrame as a CSV file\n",
        "for i, partition in enumerate(partitioned_dfs):\n",
        "    # Define the filename\n",
        "    filename = f'/content/Sample_data_streams_partition_{i + 1}.csv'  # Use underscores instead of spaces\n",
        "    partition.to_csv(filename, index=False)"
      ],
      "metadata": {
        "id": "5tEdN0DHRS-V"
      },
      "execution_count": null,
      "outputs": []
    },
    {
      "cell_type": "markdown",
      "source": [
        "### **2.\tData Analysis and Processing in Parallel**"
      ],
      "metadata": {
        "id": "42r1R3az5VJZ"
      }
    },
    {
      "cell_type": "code",
      "source": [
        "from pyspark.sql import SparkSession\n",
        "from pyspark.sql.functions import avg\n",
        "\n",
        "# Initialize a Spark session\n",
        "spark = SparkSession.builder.appName(\"AverageBalanceByJob\").getOrCreate()\n",
        "\n",
        "# Group by 'job' column and calculate the average 'balance' for each job category\n",
        "average_balance_by_job = df.groupBy(\"job\").agg(avg(\"balance\").alias(\"average_balance\"))\n",
        "\n",
        "# Show the result\n",
        "average_balance_by_job.show()"
      ],
      "metadata": {
        "colab": {
          "base_uri": "https://localhost:8080/"
        },
        "id": "wyzhQrvy5YLv",
        "outputId": "479954e5-5ee6-441e-a4eb-b8e45e4bca34"
      },
      "execution_count": null,
      "outputs": [
        {
          "output_type": "stream",
          "name": "stdout",
          "text": [
            "+-------------+------------------+\n",
            "|          job|   average_balance|\n",
            "+-------------+------------------+\n",
            "|   unemployed|            874.68|\n",
            "|     services| 938.6052631578947|\n",
            "|   management|1818.3031674208146|\n",
            "|  blue-collar|1187.6456310679612|\n",
            "|self-employed|1699.8490566037735|\n",
            "|   technician|1301.9226519337017|\n",
            "| entrepreneur|             847.1|\n",
            "|       admin.|1460.2395833333333|\n",
            "|      student| 2162.095238095238|\n",
            "|    housemaid| 4421.041666666667|\n",
            "|      retired|2000.1538461538462|\n",
            "|      unknown|             713.4|\n",
            "+-------------+------------------+\n",
            "\n"
          ]
        }
      ]
    },
    {
      "cell_type": "code",
      "source": [
        "from pyspark.sql import functions as F\n",
        "\n",
        "# Define age groups\n",
        "age_groups = (\n",
        "    F.when((df.age >= 18) & (df.age <= 25), \"18-25\")\n",
        "    .when((df.age >= 26) & (df.age <= 35), \"26-35\")\n",
        "    .when((df.age >= 36) & (df.age <= 45), \"36-45\")\n",
        "    .when((df.age >= 46) & (df.age <= 55), \"46-55\")\n",
        "    .otherwise(\"56+\")\n",
        ")\n",
        "\n",
        "# Create a new DataFrame with age groups\n",
        "df_with_age_groups = df.withColumn(\"age_group\", age_groups)\n",
        "\n",
        "# Filter for individuals with loans\n",
        "loans_df = df_with_age_groups.filter(df_with_age_groups.loan == \"yes\")\n",
        "\n",
        "# Group by age group and count the number of loans\n",
        "loan_counts_by_age_group = loans_df.groupBy(\"age_group\").count()\n",
        "\n",
        "# Sort by count in descending order and get the top 5 age groups\n",
        "top_5_age_groups = loan_counts_by_age_group.orderBy(F.asc(\"age_group\")).limit(5)\n",
        "\n",
        "# Show the results\n",
        "top_5_age_groups.show()\n"
      ],
      "metadata": {
        "colab": {
          "base_uri": "https://localhost:8080/"
        },
        "id": "DIlZ9WTv5urH",
        "outputId": "12d15f9f-dfbc-4bdb-8d3e-df53b12822bc"
      },
      "execution_count": null,
      "outputs": [
        {
          "output_type": "stream",
          "name": "stdout",
          "text": [
            "+---------+-----+\n",
            "|age_group|count|\n",
            "+---------+-----+\n",
            "|    18-25|    6|\n",
            "|    26-35|   48|\n",
            "|    36-45|   56|\n",
            "|    46-55|   35|\n",
            "|      56+|   19|\n",
            "+---------+-----+\n",
            "\n"
          ]
        }
      ]
    },
    {
      "cell_type": "markdown",
      "source": [
        "### **3.\tModel Training on Partitioned Data**"
      ],
      "metadata": {
        "id": "KmcPr6nE7_Mp"
      }
    },
    {
      "cell_type": "markdown",
      "source": [
        "For the task of predicting whether a client will subscribe to a term deposit (target variable 'y'), I have selected the Random Forest Classifier. Here’s a brief explanation of why this model is suitable for this problem:\n",
        "\n",
        "1. Handling Non-Linearity:\n",
        "Random Forest is an ensemble learning method that constructs multiple decision trees during training and outputs the mode of their predictions. This allows it to effectively capture complex relationships and interactions between features, making it well-suited for datasets with non-linear relationships.\n",
        "2. Robustness to Overfitting:\n",
        "By averaging the predictions of many trees, Random Forest mitigates the risk of overfitting that a single decision tree might face, especially with high-dimensional data. This is particularly beneficial when dealing with a dataset that may have noise or outliers, which is common in real-world financial data.\n",
        "3. Feature Importance:\n",
        "Random Forest provides insights into feature importance, which helps in understanding which variables contribute most to the prediction of whether a client will subscribe to a term deposit. This can be critical for further analysis and business strategy.\n",
        "4. Parallel Processing:\n",
        "The Random Forest algorithm is inherently parallelizable because the training of individual trees can occur independently. This aligns well with the goal of utilizing parallel processing, allowing us to efficiently handle large datasets and speed up the training time.\n",
        "5. Good Performance with Categorical Features:\n",
        "The dataset contains a mix of numerical and categorical features (e.g., job, marital status, education level). Random Forest can handle categorical variables effectively without the need for extensive preprocessing (like one-hot encoding), which simplifies the model-building process."
      ],
      "metadata": {
        "id": "7IgBW3O08wnT"
      }
    },
    {
      "cell_type": "code",
      "source": [
        "import psutil\n",
        "import time\n",
        "import threading\n",
        "\n",
        "# Function to monitor CPU and memory usage\n",
        "def monitor_resources(interval=1):\n",
        "    while True:\n",
        "        cpu_usage = psutil.cpu_percent()\n",
        "        memory_info = psutil.virtual_memory()\n",
        "        memory_usage = memory_info.percent\n",
        "        print(f\"CPU Usage: {cpu_usage}%, Memory Usage: {memory_usage}%\")\n",
        "        time.sleep(interval)\n",
        "\n",
        "# Start monitoring resources in a separate thread\n",
        "monitor_thread = threading.Thread(target=monitor_resources, daemon=True)\n",
        "monitor_thread.start()"
      ],
      "metadata": {
        "colab": {
          "base_uri": "https://localhost:8080/"
        },
        "id": "sqaXAC51AZMf",
        "outputId": "9edba71f-f5e5-4d6a-9a26-96a2602ab7df"
      },
      "execution_count": null,
      "outputs": [
        {
          "output_type": "stream",
          "name": "stdout",
          "text": [
            "CPU Usage: 63.4%, Memory Usage: 19.8%"
          ]
        }
      ]
    },
    {
      "cell_type": "code",
      "source": [
        "partitioned_dfs = [spark.createDataFrame(df) for df in partitioned_dfs]"
      ],
      "metadata": {
        "colab": {
          "base_uri": "https://localhost:8080/"
        },
        "id": "-ZjcpMEs6Fwq",
        "outputId": "b13014b1-5b83-4490-b4e0-1f468569e07d"
      },
      "execution_count": null,
      "outputs": [
        {
          "output_type": "stream",
          "name": "stdout",
          "text": [
            "\n"
          ]
        }
      ]
    },
    {
      "cell_type": "code",
      "source": [
        "from pyspark.ml.feature import StringIndexer, VectorAssembler\n",
        "from pyspark.sql import SparkSession\n",
        "import concurrent.futures\n",
        "\n",
        "# Initialize Spark session if not already created\n",
        "spark = SparkSession.builder.appName(\"ParallelDataProcessing\").getOrCreate()\n",
        "\n",
        "# The corrected data preprocessing function\n",
        "def data_preprocessing(data):\n",
        "    \"\"\"Preprocess the data by encoding categorical variables and assembling features.\"\"\"\n",
        "\n",
        "    # Define categorical columns and label column\n",
        "    categorical_columns = ['job', 'marital', 'education', 'default', 'housing', 'loan', 'contact', 'month', 'poutcome']\n",
        "    continuous_columns = ['age', 'balance', 'duration', 'campaign', 'pdays', 'previous']\n",
        "    label_col = 'y'\n",
        "\n",
        "    # Rename the target column to 'label'\n",
        "    data = data.withColumnRenamed(label_col, \"label\")\n",
        "\n",
        "    # Apply StringIndexer to categorical columns\n",
        "    for col in categorical_columns:\n",
        "        indexer = StringIndexer(inputCol=col, outputCol=col + \"_index\")\n",
        "        data = indexer.fit(data).transform(data)\n",
        "\n",
        "    # Apply StringIndexer to the label column\n",
        "    label_indexer = StringIndexer(inputCol=\"label\", outputCol=\"label_index\")\n",
        "    data = label_indexer.fit(data).transform(data)\n",
        "\n",
        "    # Assemble all continuous columns and indexed categorical columns into a feature vector\n",
        "    assembler = VectorAssembler(\n",
        "        inputCols=continuous_columns + [col + \"_index\" for col in categorical_columns],\n",
        "        outputCol=\"features\"\n",
        "    )\n",
        "\n",
        "    # Transform the data to include features\n",
        "    data = assembler.transform(data)\n",
        "\n",
        "    return data\n",
        "\n",
        "# Preprocess each partition in parallel\n",
        "def preprocess_partition(partition_df):\n",
        "    return data_preprocessing(partition_df)\n",
        "\n",
        "# Ensure partitioned_dfs contains Spark DataFrames\n",
        "with concurrent.futures.ThreadPoolExecutor() as executor:\n",
        "    # Process each partition in parallel\n",
        "    processed_dfs = list(executor.map(preprocess_partition, partitioned_dfs))\n",
        "\n",
        "# Combine all the processed partitions\n",
        "final_df = processed_dfs[0]\n",
        "for df in processed_dfs[1:]:\n",
        "    final_df = final_df.union(df)\n",
        "\n",
        "# Show the final DataFrame\n",
        "final_df.show()\n"
      ],
      "metadata": {
        "colab": {
          "base_uri": "https://localhost:8080/"
        },
        "id": "-1-SEeyT8C8h",
        "outputId": "29b41e27-c332-48c7-fc37-f821358ab10b"
      },
      "execution_count": null,
      "outputs": [
        {
          "output_type": "stream",
          "name": "stdout",
          "text": [
            "CPU Usage: 93.2%, Memory Usage: 19.8%\n",
            "CPU Usage: 100.0%, Memory Usage: 19.8%\n",
            "CPU Usage: 99.5%, Memory Usage: 19.8%\n",
            "CPU Usage: 100.0%, Memory Usage: 19.9%\n",
            "CPU Usage: 100.0%, Memory Usage: 20.1%\n",
            "CPU Usage: 100.0%, Memory Usage: 20.1%\n",
            "CPU Usage: 100.0%, Memory Usage: 20.1%\n",
            "CPU Usage: 100.0%, Memory Usage: 20.1%\n",
            "CPU Usage: 100.0%, Memory Usage: 20.1%\n",
            "CPU Usage: 100.0%, Memory Usage: 20.1%\n",
            "CPU Usage: 100.0%, Memory Usage: 20.1%\n",
            "CPU Usage: 100.0%, Memory Usage: 20.1%\n",
            "CPU Usage: 100.0%, Memory Usage: 20.1%\n",
            "CPU Usage: 99.5%, Memory Usage: 20.1%\n",
            "CPU Usage: 100.0%, Memory Usage: 20.1%\n",
            "CPU Usage: 100.0%, Memory Usage: 20.2%\n",
            "CPU Usage: 100.0%, Memory Usage: 20.2%\n",
            "CPU Usage: 100.0%, Memory Usage: 20.2%\n",
            "CPU Usage: 100.0%, Memory Usage: 20.1%\n",
            "CPU Usage: 100.0%, Memory Usage: 20.2%\n",
            "CPU Usage: 100.0%, Memory Usage: 20.2%\n",
            "CPU Usage: 100.0%, Memory Usage: 20.2%\n",
            "CPU Usage: 100.0%, Memory Usage: 20.2%\n",
            "+---+-----------+--------+---------+-------+-------+-------+----+---------+---+-----+--------+--------+-----+--------+--------+-----+---------+-------------+---------------+-------------+-------------+----------+-------------+-----------+--------------+-----------+--------------------+\n",
            "|age|        job| marital|education|default|balance|housing|loan|  contact|day|month|duration|campaign|pdays|previous|poutcome|label|job_index|marital_index|education_index|default_index|housing_index|loan_index|contact_index|month_index|poutcome_index|label_index|            features|\n",
            "+---+-----------+--------+---------+-------+-------+-------+----+---------+---+-----+--------+--------+-----+--------+--------+-----+---------+-------------+---------------+-------------+-------------+----------+-------------+-----------+--------------+-----------+--------------------+\n",
            "| 47| technician| married|secondary|     no|    -75|    yes|  no| cellular|  4|  feb|      57|       1|  247|       1|   other|   no|      1.0|          0.0|            0.0|          0.0|          0.0|       0.0|          0.0|        6.0|           2.0|        0.0|[47.0,-75.0,57.0,...|\n",
            "| 28| technician|  single|secondary|     no|      3|     no|  no|telephone| 18|  may|      40|       8|  349|       6| failure|   no|      1.0|          1.0|            0.0|          0.0|          1.0|       0.0|          2.0|        0.0|           1.0|        0.0|[28.0,3.0,40.0,8....|\n",
            "| 37| management| married| tertiary|     no|   1315|     no|  no| cellular| 30|  jun|     224|       1|   -1|       0| unknown|  yes|      0.0|          0.0|            1.0|          0.0|          1.0|       0.0|          0.0|        3.0|           0.0|        1.0|(15,[0,1,2,3,4,8,...|\n",
            "| 42| management| married| tertiary|     no|   9009|     no|  no| cellular| 20|  nov|     135|       2|   -1|       0| unknown|   no|      0.0|          0.0|            1.0|          0.0|          1.0|       0.0|          0.0|        4.0|           0.0|        0.0|(15,[0,1,2,3,4,8,...|\n",
            "| 55|  housemaid|divorced|  primary|     no|    976|     no|  no| cellular| 28|  jun|     345|       1|   94|       3|   other|  yes|      8.0|          2.0|            2.0|          0.0|          1.0|       0.0|          0.0|        3.0|           2.0|        1.0|[55.0,976.0,345.0...|\n",
            "| 25|blue-collar|  single|secondary|     no|   -350|    yes|  no|  unknown| 23|  jun|      95|       3|   -1|       0| unknown|   no|      2.0|          1.0|            0.0|          0.0|          0.0|       0.0|          1.0|        3.0|           0.0|        0.0|[25.0,-350.0,95.0...|\n",
            "| 34|blue-collar| married|  primary|     no|    455|    yes|  no|  unknown| 20|  jun|     372|       3|   -1|       0| unknown|   no|      2.0|          0.0|            2.0|          0.0|          0.0|       0.0|          1.0|        3.0|           0.0|        0.0|[34.0,455.0,372.0...|\n",
            "| 38|   services| married|secondary|     no|   -140|     no|  no|  unknown| 25|  jun|     456|       3|   -1|       0| unknown|   no|      4.0|          0.0|            0.0|          0.0|          1.0|       0.0|          1.0|        3.0|           0.0|        0.0|[38.0,-140.0,456....|\n",
            "| 60|blue-collar| married|secondary|     no|    322|    yes|  no| cellular|  7|  may|      63|       1|   -1|       0| unknown|   no|      2.0|          0.0|            0.0|          0.0|          0.0|       0.0|          0.0|        0.0|           0.0|        0.0|(15,[0,1,2,3,4,6]...|\n",
            "| 40| management| married| tertiary|     no|  -1212|    yes|  no| cellular| 15|  may|    1259|       2|  333|      18| failure|   no|      0.0|          0.0|            1.0|          0.0|          0.0|       0.0|          0.0|        0.0|           1.0|        0.0|(15,[0,1,2,3,4,5,...|\n",
            "| 56| management| married| tertiary|     no|    217|     no| yes| cellular| 21|  jul|     121|       2|   -1|       0| unknown|   no|      0.0|          0.0|            1.0|          0.0|          1.0|       1.0|          0.0|        1.0|           0.0|        0.0|[56.0,217.0,121.0...|\n",
            "| 35| technician| married|secondary|     no|    141|    yes|  no| cellular| 19|  aug|     299|       2|   -1|       0| unknown|   no|      1.0|          0.0|            0.0|          0.0|          0.0|       0.0|          0.0|        2.0|           0.0|        0.0|(15,[0,1,2,3,4,6,...|\n",
            "| 24| unemployed|  single|secondary|     no|    119|     no|  no|  unknown| 15|  sep|      51|       1|   -1|       0| unknown|   no|     10.0|          1.0|            0.0|          0.0|          1.0|       0.0|          1.0|        9.0|           0.0|        0.0|[24.0,119.0,51.0,...|\n",
            "| 46|blue-collar| married|  primary|     no|     67|     no|  no|  unknown| 24|  jun|       9|       1|   -1|       0| unknown|   no|      2.0|          0.0|            2.0|          0.0|          1.0|       0.0|          1.0|        3.0|           0.0|        0.0|[46.0,67.0,9.0,1....|\n",
            "| 59|    retired| married| tertiary|     no|   9676|     no|  no|telephone| 27|  mar|     234|       2|   -1|       0| unknown|  yes|      7.0|          0.0|            1.0|          0.0|          1.0|       0.0|          2.0|       10.0|           0.0|        1.0|[59.0,9676.0,234....|\n",
            "| 26| management|  single|secondary|     no|     63|     no|  no| cellular| 28|  jul|      76|       4|   -1|       0| unknown|   no|      0.0|          1.0|            0.0|          0.0|          1.0|       0.0|          0.0|        1.0|           0.0|        0.0|(15,[0,1,2,3,4,7,...|\n",
            "| 31| technician|  single|secondary|     no|    102|    yes|  no|telephone| 17|  apr|     460|       2|  345|       2| failure|   no|      1.0|          1.0|            0.0|          0.0|          0.0|       0.0|          2.0|        5.0|           1.0|        0.0|[31.0,102.0,460.0...|\n",
            "| 40|     admin.|  single|secondary|     no|    462|    yes| yes| cellular|  6|  apr|     272|       1|  335|       4|   other|   no|      3.0|          1.0|            0.0|          0.0|          0.0|       1.0|          0.0|        5.0|           2.0|        0.0|[40.0,462.0,272.0...|\n",
            "| 23|    student| married| tertiary|    yes|   -230|    yes|  no| cellular| 18|  may|     259|       2|   -1|       0| unknown|   no|      9.0|          0.0|            1.0|          1.0|          0.0|       0.0|          0.0|        0.0|           0.0|        0.0|(15,[0,1,2,3,4,6,...|\n",
            "| 41|     admin.|  single|secondary|     no|   1020|    yes|  no|  unknown| 19|  may|     882|       1|   -1|       0| unknown|  yes|      3.0|          1.0|            0.0|          0.0|          0.0|       0.0|          1.0|        0.0|           0.0|        1.0|(15,[0,1,2,3,4,6,...|\n",
            "+---+-----------+--------+---------+-------+-------+-------+----+---------+---+-----+--------+--------+-----+--------+--------+-----+---------+-------------+---------------+-------------+-------------+----------+-------------+-----------+--------------+-----------+--------------------+\n",
            "only showing top 20 rows\n",
            "\n"
          ]
        }
      ]
    },
    {
      "cell_type": "code",
      "source": [
        "import pandas as pd\n",
        "from sklearn.model_selection import train_test_split\n",
        "from sklearn.tree import DecisionTreeClassifier\n",
        "from sklearn.ensemble import RandomForestClassifier\n",
        "from concurrent.futures import ProcessPoolExecutor\n",
        "\n",
        "# Step 1: Convert Spark DataFrame to Pandas\n",
        "final_pd_df = final_df.toPandas()\n",
        "\n",
        "# Step 2: Split data into features (X) and label (y)\n",
        "X = final_pd_df['features'].tolist()  # Assuming 'features' is the vectorized column\n",
        "y = final_pd_df['label_index']  # Using the index of the label as the target\n",
        "\n",
        "# Step 3: Split the dataset into train and test sets\n",
        "X_train, X_test, y_train, y_test = train_test_split(X, y, test_size=0.2, random_state=42)\n",
        "\n",
        "# Step 4: Define a function to train a model and return its predictions\n",
        "def train_and_predict(model, X_train, y_train, X_test):\n",
        "    model.fit(X_train, y_train)\n",
        "    predictions = model.predict(X_test)\n",
        "    return predictions\n",
        "\n",
        "# Step 5: Create instances of models\n",
        "decision_tree_model = DecisionTreeClassifier(random_state=42)\n",
        "random_forest_model = RandomForestClassifier(n_estimators=100, random_state=42)\n",
        "\n",
        "# Step 6: Use ProcessPoolExecutor for parallel processing\n",
        "with ProcessPoolExecutor() as executor:\n",
        "    # Train and get predictions for each model in parallel\n",
        "    decision_tree_predictions_future = executor.submit(train_and_predict, decision_tree_model, X_train, y_train, X_test)\n",
        "    random_forest_predictions_future = executor.submit(train_and_predict, random_forest_model, X_train, y_train, X_test)\n",
        "\n",
        "# Step 7: Get the predictions from the parallel tasks\n",
        "decision_tree_predictions = decision_tree_predictions_future.result()\n",
        "random_forest_predictions = random_forest_predictions_future.result()\n",
        "\n",
        "# Step 8: Now you have trained and obtained predictions from both models\n",
        "predictions_list = [decision_tree_predictions, random_forest_predictions]\n",
        "\n",
        "# Display results\n",
        "print(\"Decision Tree Predictions:\", decision_tree_predictions[:10])\n",
        "print(\"Random Forest Predictions:\", random_forest_predictions[:10])\n"
      ],
      "metadata": {
        "colab": {
          "base_uri": "https://localhost:8080/"
        },
        "id": "rlfGp3aO6vL1",
        "outputId": "1d12a538-cc35-475f-8933-a45e38b4dd03"
      },
      "execution_count": null,
      "outputs": [
        {
          "output_type": "stream",
          "name": "stdout",
          "text": [
            "CPU Usage: 95.5%, Memory Usage: 19.8%\n",
            "CPU Usage: 75.5%, Memory Usage: 19.9%\n",
            "CPU Usage: 99.0%, Memory Usage: 20.1%\n",
            "CPU Usage: 100.0%, Memory Usage: 20.4%\n",
            "Decision Tree Predictions: [0. 0. 0. 0. 0. 0. 1. 0. 0. 0.]\n",
            "Random Forest Predictions: [0. 0. 0. 0. 0. 0. 0. 0. 0. 0.]\n"
          ]
        }
      ]
    },
    {
      "cell_type": "code",
      "source": [
        "from collections import Counter\n",
        "from sklearn.metrics import accuracy_score\n",
        "\n",
        "# Step 1: Define the function to combine predictions\n",
        "def combine_predictions(predictions_list):\n",
        "    combined_predictions = []\n",
        "\n",
        "    for i in range(len(predictions_list[0])):\n",
        "        # Create a Counter to count the occurrences of each prediction\n",
        "        prediction_counter = Counter([predictions[i] for predictions in predictions_list])\n",
        "\n",
        "        # Get the most common prediction (majority vote)\n",
        "        majority_vote = prediction_counter.most_common(1)[0][0]\n",
        "\n",
        "        combined_predictions.append(majority_vote)\n",
        "\n",
        "    return combined_predictions\n",
        "\n",
        "# Step 2: Combine predictions from both models\n",
        "predictions_list = [decision_tree_predictions, random_forest_predictions]\n",
        "final_predictions = combine_predictions(predictions_list)\n",
        "\n",
        "# Step 3: Calculate accuracy of the combined predictions\n",
        "accuracy = accuracy_score(y_test, final_predictions)\n",
        "\n",
        "# Step 4: Print the accuracy\n",
        "print(\"Accuracy of the combined predictions: {:.2f}%\".format(accuracy * 100))\n"
      ],
      "metadata": {
        "colab": {
          "base_uri": "https://localhost:8080/"
        },
        "id": "y2waeWvr7k-Z",
        "outputId": "4c6fd610-6bd7-427c-aced-b76e8488fb98"
      },
      "execution_count": null,
      "outputs": [
        {
          "output_type": "stream",
          "name": "stdout",
          "text": [
            "Accuracy of the combined predictions: 81.50%\n"
          ]
        }
      ]
    },
    {
      "cell_type": "markdown",
      "source": [
        "**Challenges Faced in Parallelizing the Training Process**\n",
        "\n",
        "Data Shuffling: When partitioning the data, it’s essential to ensure that the distribution of the target variable (y) is similar in both training and testing sets. If the data is not shuffled correctly, it could lead to biased training results.\n",
        "\n",
        "Solution: I used the randomSplit() function, which takes a seed parameter for reproducibility and helps ensure a random distribution of data.\n",
        "\n",
        "Resource Management: Training a Random Forest model can be resource-intensive, especially with a large dataset and a high number of trees. This can lead to memory issues or slow processing times.\n",
        "\n",
        "Solution: I monitored the Spark UI to check resource utilization and adjusted the number of trees and depth of the trees as needed to balance performance and resource usage.\n",
        "\n",
        "Model Complexity: The number of trees and their depth can impact both performance and training time. A more complex model might take longer to train and require more resources.\n",
        "\n",
        "Solution: I performed some preliminary experiments to determine the optimal number of trees and depth for my dataset, ensuring that the model is neither too simple nor too complex."
      ],
      "metadata": {
        "id": "_YBadBqt9bAQ"
      }
    },
    {
      "cell_type": "markdown",
      "source": [
        "**Insights:**\n",
        "\n",
        "- CPU Usage: Monitoring CPU usage helps in understanding the load on the processor. High CPU usage may indicate heavy computation tasks or poorly optimized code.\n",
        "- Memory Usage: Monitoring memory usage provides insights into how much RAM your program is consuming. High memory usage might lead to swapping, slowing down the system."
      ],
      "metadata": {
        "id": "ASPrEdEAByz8"
      }
    },
    {
      "cell_type": "markdown",
      "source": [
        "### **5.\tTask Management and Scheduling**"
      ],
      "metadata": {
        "id": "KBU62-7vCfqS"
      }
    },
    {
      "cell_type": "markdown",
      "source": [
        "Managing multiple parallel tasks, such as various preprocessing operations, involves structuring your code to be modular and organized. Each preprocessing task should be encapsulated in its own function, ensuring a clear separation of responsibilities. Utilizing libraries like concurrent.futures allows for efficient execution of these tasks, where you can submit individual preprocessing jobs to be run concurrently. This parallel processing enhances efficiency by utilizing system resources effectively, particularly for CPU-bound tasks. Implementing error handling within each function ensures that exceptions are managed gracefully, allowing the overall process to continue smoothly.\n",
        "\n",
        "To monitor system resources during these parallel operations, you can use tools like psutil, which tracks CPU and memory usage in real-time. By keeping an eye on resource consumption, you can avoid overwhelming the system and ensure that it remains responsive throughout the execution. Setting limits on the number of concurrent tasks can help manage resource usage more effectively. Finally, once all preprocessing tasks are completed, collecting and combining the results in a structured manner, such as through a DataFrame, ensures that your data remains organized and ready for subsequent analysis or modeling steps. This approach fosters scalability and maintainability, making it easier to adapt the workflow to future needs."
      ],
      "metadata": {
        "id": "b8U9ZtOnAzjE"
      }
    }
  ]
}